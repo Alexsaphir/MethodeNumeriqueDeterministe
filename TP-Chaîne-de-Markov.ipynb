{
 "cells": [
  {
   "cell_type": "markdown",
   "metadata": {},
   "source": [
    "<center>\n",
    "# Chaînes de Markov"
   ]
  },
  {
   "cell_type": "code",
   "execution_count": 1,
   "metadata": {},
   "outputs": [],
   "source": [
    "import numpy as np\n",
    "import matplotlib.pyplot as plt\n",
    "import numpy.random as rnd\n",
    "%matplotlib inline"
   ]
  },
  {
   "cell_type": "markdown",
   "metadata": {},
   "source": [
    "## Exercice 1 : Simulation d'une chaîne de Markov\n",
    "\n",
    "Le langage Python dispose d'une fonction pour simuler suivant une loi discrète *rnd.choice*.\n",
    "On dispose d'une matrice de transition $P$, par exemple celle modélisant le climat à Nantes et définie par :"
   ]
  },
  {
   "cell_type": "markdown",
   "metadata": {},
   "source": [
    "$$P=\n",
    "\\begin{pmatrix}\n",
    "  0.5& 0.5 \\\\ 0.1& 0.9\n",
    "\\end{pmatrix}.\n",
    "$$"
   ]
  },
  {
   "cell_type": "markdown",
   "metadata": {},
   "source": [
    ">**Question 1.** Simuler une valeur d'une chaîne de Markov de matrice de transition $P$ et issue de $2$."
   ]
  },
  {
   "cell_type": "code",
   "execution_count": 8,
   "metadata": {},
   "outputs": [
    {
     "data": {
      "text/plain": [
       "array([[ 0.5,  0.5],\n",
       "       [ 0.1,  0.9]])"
      ]
     },
     "execution_count": 8,
     "metadata": {},
     "output_type": "execute_result"
    }
   ],
   "source": [
    "pla = np.array([[.5, .5], [.1, .9]])\n",
    "pla"
   ]
  },
  {
   "cell_type": "markdown",
   "metadata": {},
   "source": [
    ">**Question 2.** Creer un vecteur $x$ qui contiendra les n premières valeurs simulées d'une chaîne de Markov issue de 2."
   ]
  },
  {
   "cell_type": "code",
   "execution_count": null,
   "metadata": {
    "collapsed": true
   },
   "outputs": [],
   "source": []
  },
  {
   "cell_type": "markdown",
   "metadata": {},
   "source": [
    ">**Question 3.** Ecrire une fonction $genmarkov(x,n,P)$ \n",
    "qui simule une chaîne de markov de matrice de transition p issue de $x$ et qui renvoie la valeur $X_{n-1}(\\omega)$. On écrira également la fonction $vgenmarkov(x,n,P)$ qui elle renvoie le vecteur des valeurs $(X_0(\\omega), ..., X_{n-1}(\\omega))$.\n"
   ]
  },
  {
   "cell_type": "code",
   "execution_count": 6,
   "metadata": {},
   "outputs": [],
   "source": [
    "def vgenmarkov(z, n, p):\n",
    "    x = np.arange(n)\n",
    "    x[0] = z\n",
    "    dim = len(P[0])\n",
    "    for i in np.arange(1, n):\n",
    "        x[i] = np.random.choice(a=dim, p=p[x[i-1]])\n",
    "    return(x)"
   ]
  },
  {
   "cell_type": "code",
   "execution_count": 7,
   "metadata": {},
   "outputs": [],
   "source": [
    "def genmarkov(x, n ,p):\n",
    "    dim = len(P[0])\n",
    "    z = x\n",
    "    for i in np.arange(1, n):\n",
    "        y = np.random.choice(a=dim, p=p[z])\n",
    "        z = y\n",
    "    return z\n",
    "    "
   ]
  },
  {
   "cell_type": "markdown",
   "metadata": {},
   "source": [
    ">**Question 4.** Pour le climat à Nantes, vérifiez que  la proportion de temps\n",
    "passé dans chaque état converge vers un nombre qui ne dépend que de\n",
    "cet état et pas du point de départ. Représentez sur un même graphique le vecteur des moyennes des deux états. Tirer une conclusion de convergence. "
   ]
  },
  {
   "cell_type": "code",
   "execution_count": null,
   "metadata": {
    "collapsed": true
   },
   "outputs": [],
   "source": []
  },
  {
   "cell_type": "markdown",
   "metadata": {},
   "source": [
    ">**Question 5.**  Ce résultat est-il encore vrai pour les matrices $P_a$ et $P_b$ ci dessous ? Pouvez vous expliquer pourquoi ?\n",
    "$$P_a=\n",
    "\\begin{pmatrix}\n",
    "7/20&3/20&1/4&1/4\\\\\n",
    "3/10&1/4&7/20&1/10\\\\\n",
    "1/4&1/4&7/20&3/20\\\\\n",
    "3/10&1/4&1/4&1/5\n",
    "\\end{pmatrix},\\qquad \n",
    "P_b=\n",
    "\\begin{pmatrix}\n",
    "1/2&0&0&0&1/2\\\\\n",
    "0&1/2&0&1/2&0\\\\\n",
    "0&0&1&0&0\\\\\n",
    "0&1/4&1/4&1/4&1/4\\\\\n",
    "1/2&0&0&0&1/2\n",
    "\\end{pmatrix}.\n",
    "$$"
   ]
  },
  {
   "cell_type": "code",
   "execution_count": null,
   "metadata": {
    "collapsed": true
   },
   "outputs": [],
   "source": []
  },
  {
   "cell_type": "markdown",
   "metadata": {},
   "source": [
    "## Exercice 2 : Calcul des probabilités de transition\n",
    "On utilise également la  matrice de  transition $P$ suivante\n",
    "$$P=\n",
    "\\begin{pmatrix}\n",
    "  1/2&0&1/2&0\\\\\n",
    "  0&1&0&0\\\\\n",
    "  1/2&0&0&1/2\\\\\n",
    "  0&1/2&0&1/2\n",
    "\\end{pmatrix}.\n",
    "$$"
   ]
  },
  {
   "cell_type": "markdown",
   "metadata": {},
   "source": [
    ">**Question 1.** Utiliser la loi forte des grands nombres pour calculer, pour les matrices $P_a,P_b$ des valeurs approchées de $p^{(n)}_{2,3}, p^{(n)}_{3,3}, p^{(n)}_{1,4}$ pour les valeurs de n suivantes $n=2,5,10, 20$. Par exemple, vous faites N=1000 (ou N=10000, ou N=50000) simulations de la chaîne de Markov issue de 2, puis vous comptez la proportion de fois où vous observez la valeur $3$"
   ]
  },
  {
   "cell_type": "code",
   "execution_count": null,
   "metadata": {
    "collapsed": true
   },
   "outputs": [],
   "source": []
  },
  {
   "cell_type": "markdown",
   "metadata": {},
   "source": [
    ">**Question 2.** Vérifier vos simulations  en utilisant le calcul matriciel. Sous Python, le produit matriciel des matrices p et q s'écrit $np.dot(p,q)$ ce qui est très différent de $p*q$. Ecrivez une fonction $puis(p,n)$ qui renvoie la matrice $p^n$. (Vous pouvez utiliser un algorithme de calcul rapide de\n",
    "puissance si vous savez le coder)."
   ]
  },
  {
   "cell_type": "code",
   "execution_count": null,
   "metadata": {
    "collapsed": true
   },
   "outputs": [],
   "source": []
  },
  {
   "cell_type": "markdown",
   "metadata": {},
   "source": [
    "## Exercice 3 : Calcul de probabilités et de temps d'absorption\n",
    "Premièrement, en utilisant la structure de classes, décrire les 3\n",
    "comportements asymptotiques possibles pour la chaîne de Markov de\n",
    "matrice de transition\n",
    "$$P=\n",
    "\\begin{pmatrix}\n",
    " 1&0&0&0&0\\\\\n",
    " 0&1&0&0&0\\\\\n",
    " 3/20&1/10&3/10&1/5&1/4\\\\\n",
    " 1/5&3/20&3/20&7/20&3/20\\\\\n",
    " 0&0&0&0&1\n",
    "\\end{pmatrix}.\n",
    "$$"
   ]
  },
  {
   "cell_type": "markdown",
   "metadata": {},
   "source": [
    ">**Question 1.** En utilisant la loi forte des grands nombres, calculer une valeur approchée de la probabilité que la chaîne de Markov, issue de 4, réussisse à atteindre l'état 2."
   ]
  },
  {
   "cell_type": "code",
   "execution_count": null,
   "metadata": {
    "collapsed": true
   },
   "outputs": [],
   "source": []
  },
  {
   "cell_type": "markdown",
   "metadata": {},
   "source": [
    ">**Question 2.** Essayons maintenant de répondre à la même question en utilisant le\n",
    "calcul matriciel.  Ecrire la matrice de la chaîne absorbee $\\tilde{P}$\n",
    "sous la forme canonique \n",
    "$$\\tilde{P}=\n",
    "\\begin{pmatrix}\n",
    "  Q & R \\\\ 0 & I\n",
    "\\end{pmatrix}\n",
    "$$\n",
    "Puis utiliser la fonction  np.linalg.inv pour calculer\n",
    "$N=(I-Q)^{-1}$ et enfin retrouver le calcul précédent de la\n",
    "probabilité d'absorption en 2 lorsque l'on part de 4."
   ]
  },
  {
   "cell_type": "code",
   "execution_count": null,
   "metadata": {
    "collapsed": true
   },
   "outputs": [],
   "source": []
  },
  {
   "cell_type": "markdown",
   "metadata": {},
   "source": [
    "## Exercice 4 : Détermination de probabilités invariantes\n",
    "On cosidère la matrice de transition $P$ définie par \n",
    "$$P=\n",
    "\\begin{pmatrix}\n",
    "  0.5& 0.5 \\\\ 0.1& 0.9\n",
    "\\end{pmatrix}.\n",
    "$$\n",
    "On peut chercher les valeurs et vecteurs propres de la matrice $P$ en utilisant $np.linalg.eig(P)$. N'oublions pas que le vecteur $\\mathbf{1}$  dont toutes les coordonnées sont des  $1$  est un vecteur propre avec la valeur propre 1. Ici nous cherchons une probabilité invariante, i.e. un vecteur propre à gauche. Il faut donc déterminer le spectre de la transposée.  Pour comparer des valeurs numériques $a$ et $b$, à la précision de la machine utilisée, on utilise la commande $np.isclose(a,b)$\n"
   ]
  },
  {
   "cell_type": "markdown",
   "metadata": {},
   "source": [
    "> Ecrire une fonction $probinv(p)$\n",
    "qui prenne en paramètre une matrice stochastique $p$ et qui retourne une probabilité invariante pour $p$. N'oubliez pas de normaliser le vecteur propre pour obtenir une probabilité.\n",
    "Tester cette fonction avec $P$ et la matrices de transition $P$ de l'exercice $3$."
   ]
  },
  {
   "cell_type": "code",
   "execution_count": null,
   "metadata": {
    "collapsed": true
   },
   "outputs": [],
   "source": []
  },
  {
   "cell_type": "markdown",
   "metadata": {},
   "source": [
    " ## Exercice 5 : Le théorème ergodique\n",
    "Rappelez les conditions d'application de ce théorème. Indiquez pour chacun des exercices $4.7,4.12$ si vous avez le droit de l'appliquer et faites le, éventuellement, pour répondre aux  questions de ces exercices. \n",
    "\n",
    "> Vous devez déterminer la/les probabilités invariantes, la fonction $f$ dont vous prenez la moyenne temporelle (c'est un vecteur de la bonne dimension) et calculer la moyenne $<f,\\pi>$."
   ]
  },
  {
   "cell_type": "code",
   "execution_count": null,
   "metadata": {
    "collapsed": true
   },
   "outputs": [],
   "source": []
  },
  {
   "cell_type": "markdown",
   "metadata": {},
   "source": [
    " ## Exercice 5 : Le théorème de convergence vers l'équilibre\n",
    "\n",
    "Relire attentivement l'énoncé de ce théorème. On cosidère la matrice de transition $P$ définie par \n",
    "$$P=\n",
    "\\begin{pmatrix}\n",
    "  0.5& 0.5 \\\\ 0.1& 0.9\n",
    "\\end{pmatrix}.\n",
    "$$\n",
    "\n",
    "Indiquer, pour la matrice $P$ et celle de l'exercice 4.17, vers quelle matrice $P^\\infty$  doit converger $P^n$ quand $n\\to \\infty$. \\\\\n",
    "\n",
    "> Vérifier, dans ces deux cas,  que la décroissance d'une distance entre $P^n$ et $P^\\infty$ est en $\\rho^n$ avec $\\rho \\in ]0,1[$. Comparer la valeur de $\\rho$ trouvée expérimentalement et la valeur théorique donnée par le théorème de Perron Frobenius.\n"
   ]
  },
  {
   "cell_type": "code",
   "execution_count": null,
   "metadata": {
    "collapsed": true
   },
   "outputs": [],
   "source": []
  },
  {
   "cell_type": "markdown",
   "metadata": {},
   "source": [
    "> **Indication  ** Utiliser la fonction $distance(p,q)$ qui calcule la distance entre deux matrices."
   ]
  },
  {
   "cell_type": "code",
   "execution_count": 3,
   "metadata": {
    "collapsed": true
   },
   "outputs": [],
   "source": [
    "def distance(p,q):\n",
    "    r=(p-q)**2\n",
    "    return(np.sqrt(r.sum()))"
   ]
  }
 ],
 "metadata": {
  "kernelspec": {
   "display_name": "Python 3",
   "language": "python",
   "name": "python3"
  },
  "language_info": {
   "codemirror_mode": {
    "name": "ipython",
    "version": 3
   },
   "file_extension": ".py",
   "mimetype": "text/x-python",
   "name": "python",
   "nbconvert_exporter": "python",
   "pygments_lexer": "ipython3",
   "version": "3.5.3"
  }
 },
 "nbformat": 4,
 "nbformat_minor": 2
}
