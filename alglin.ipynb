{
 "cells": [
  {
   "cell_type": "markdown",
   "metadata": {},
   "source": [
    "<center>\n",
    "# Algèbre linéaire randomisée"
   ]
  },
  {
   "cell_type": "code",
   "execution_count": 1,
   "metadata": {},
   "outputs": [],
   "source": [
    "%matplotlib inline\n",
    "from math import *\n",
    "import numpy as  np  \n",
    "import scipy as sp\n",
    "from pylab import *\n"
   ]
  },
  {
   "cell_type": "markdown",
   "metadata": {
    "collapsed": true
   },
   "source": [
    "# Exercice 1"
   ]
  },
  {
   "cell_type": "markdown",
   "metadata": {},
   "source": [
    "Dans cet exercice, nous étudions l'estimation de la norme euclidienne $\\Vert x \\Vert_2$ d'un vecteur $x \\in \\mathbb{R}^n$ par $\\Vert  Sx \\Vert_2$ où $S \\in \\mathbb{R}^{k \\times n}$ est une matrice aléatoire.\n"
   ]
  },
  {
   "cell_type": "markdown",
   "metadata": {},
   "source": [
    ">**Question 0.** Générer un vecteur <code>x</code> dans $\\mathbb{R}^n$ selon la loi uniforme sur la sphère unité de $\\mathbb{R}^n$ (tirer pour cela selon la loi gaussienne standard sur $\\mathbb{R}^n$ et normaliser le vecteur obtenu). On prendra $n=2000$.  "
   ]
  },
  {
   "cell_type": "code",
   "execution_count": 76,
   "metadata": {},
   "outputs": [],
   "source": [
    "n = 2000\n",
    "x = np.random.randn(n)\n",
    "x = x / np.linalg.norm(x)\n"
   ]
  },
  {
   "cell_type": "code",
   "execution_count": 77,
   "metadata": {},
   "outputs": [
    {
     "name": "stdout",
     "output_type": "stream",
     "text": [
      "1.0\n"
     ]
    },
    {
     "data": {
      "image/png": "[encoded data removed]",
      "text/plain": [
       "<matplotlib.figure.Figure at 0x7f0570bd0860>"
      ]
     },
     "metadata": {},
     "output_type": "display_data"
    }
   ],
   "source": [
    "plot(x)\n",
    "print(norm2(x))"
   ]
  },
  {
   "cell_type": "markdown",
   "metadata": {},
   "source": [
    ">**Question 1**. On considère tout d'abord le cas d'une matice $S$ avec des entrées i.i.d. $\\mathcal{N}(0,1/k)$. \n",
    "Pour $k=25,50,100$  et $200$, estimer la probabilité $\\mathbb{P}(\\vert \\Vert Sx \\Vert_2^2 - 1 \\vert > \\epsilon)$ pour $\\epsilon=0.2$. Pour cela, pour chaque valeur de $k$, on effectuera $N_s = 100$ tirages de $\\Vert Sx \\Vert_2$ et on calculera la fréquence de l'évévement $\\{\\vert \\Vert Sx \\Vert_2 - 1 \\vert > \\epsilon\\}.$"
   ]
  },
  {
   "cell_type": "code",
   "execution_count": 78,
   "metadata": {},
   "outputs": [
    {
     "name": "stdout",
     "output_type": "stream",
     "text": [
      "Matrice à entrées iid selon loi gaussienne \n",
      "Probabilité d'echec pe :  [ 0.31  0.41  0.14  0.05]   pour k =  [25, 50, 100, 200]\n"
     ]
    }
   ],
   "source": [
    "print(\"Matrice à entrées iid selon loi gaussienne \")\n",
    "\n",
    "Ns = 100 \n",
    "kList = [25, 50, 100, 200]\n",
    "pe = np.zeros(len(kList))\n",
    "c = 0\n",
    "epsilon = .2\n",
    "\n",
    "for k in kList:\n",
    "    error = np.zeros(Ns)\n",
    "    for i in range(Ns):\n",
    "        P = 1. / sqrt(k) * np.random.randn(k,n)\n",
    "        Px = np.dot(P,x)\n",
    "        error[i] = np.abs(np.linalg.norm(Px)**2 - 1)\n",
    "    pe[c] = sum(error>epsilon) / Ns\n",
    "    c = c + 1\n",
    "    \n",
    "print(\"Probabilité d'echec pe : \", pe, \"  pour k = \",kList)"
   ]
  },
  {
   "cell_type": "markdown",
   "metadata": {},
   "source": [
    ">**Question 2**. Déterminer la valeur de $k$ suffisante pour avoir $\\mathbb{P}(\\vert \\Vert Sx \\Vert_2^2 - 1 \\vert > \\epsilon) \\le \\delta$ pour $\\epsilon=0.5$ et $\\delta=0.2$. Vérifier que cette condition est bien respectée en estimant la probabilité de l'événement à partir de $N_s=1000$ réalisations. "
   ]
  },
  {
   "cell_type": "markdown",
   "metadata": {},
   "source": [
    "Application du cours"
   ]
  },
  {
   "cell_type": "code",
   "execution_count": 79,
   "metadata": {},
   "outputs": [
    {
     "name": "stdout",
     "output_type": "stream",
     "text": [
      "Probabilité d'echec pe :  0.0   pour k =  244\n"
     ]
    }
   ],
   "source": [
    "Ns = 1000\n",
    "epsilon = .5\n",
    "delta = .001\n",
    "gamma = 1\n",
    "k = int( np.ceil( 8 * (gamma**2) / (epsilon**2) * log( 2 / delta) ) )\n",
    "\n",
    "\n",
    "error = np.zeros(Ns)\n",
    "for i in range(Ns):\n",
    "    P = 1. / sqrt(k) * np.random.randn(k,n)\n",
    "    Px = np.dot(P,x)\n",
    "    error[i] = np.abs(np.linalg.norm(Px)**2 - 1)\n",
    "pe = sum(error>epsilon) / Ns\n",
    "\n",
    "print(\"Probabilité d'echec pe : \", pe, \"  pour k = \",k)"
   ]
  },
  {
   "cell_type": "markdown",
   "metadata": {},
   "source": [
    ">**Question 3** On considère maintenant une matrice $S$ avec des entrées i.i.d. prenant les valeurs $-\\sqrt{\\frac{r}{k}},0,\\sqrt{\\frac{r}{k}}$ avec pour probabilités respectives $\\frac{1}{2r},1-\\frac{1}{r},\\frac{1}{2r}$. Reprendre la question 1 en considérant le cas $r=1$ et $r=2$. On pourra utiliser la fonction [numpy.random.choice](https://docs.scipy.org/doc/numpy-1.13.0/reference/generated/numpy.random.choice.html)."
   ]
  },
  {
   "cell_type": "code",
   "execution_count": 80,
   "metadata": {},
   "outputs": [
    {
     "name": "stdout",
     "output_type": "stream",
     "text": [
      "r : 1 , k : 25 , proba d'échec 0.51\n",
      "r : 1 , k : 50 , proba d'échec 0.31\n",
      "r : 1 , k : 100 , proba d'échec 0.19\n",
      "r : 1 , k : 200 , proba d'échec 0.06\n",
      "r : 2 , k : 25 , proba d'échec 0.38\n",
      "r : 2 , k : 50 , proba d'échec 0.31\n",
      "r : 2 , k : 100 , proba d'échec 0.15\n",
      "r : 2 , k : 200 , proba d'échec 0.04\n"
     ]
    }
   ],
   "source": [
    "\n",
    "def GenSr(n, k, r):\n",
    "    return np.random.choice( [-sqrt(r / k), 0, sqrt(r / k)], (k,n), p=[1 / (2 * r), 1 - 1 / r, 1 / (2 * r)])\n",
    "\n",
    "Ns = 100\n",
    "epsilon = .2\n",
    "\n",
    "for r in [1, 2]:\n",
    "    kList = [25, 50, 100, 200]\n",
    "    pe = np.zeros(len(kList))\n",
    "    for k in kList:\n",
    "        error = np.zeros(Ns)\n",
    "        for i in range(Ns):\n",
    "            P = GenSr(n, k, r)\n",
    "            Px = np.dot(P,x)\n",
    "            error[i] = np.abs(np.linalg.norm(Px)**2 - 1)\n",
    "        pe = sum(error>epsilon) / Ns\n",
    "        print(\"r :\", r, \", k :\", k, \", proba d'échec\", pe)"
   ]
  },
  {
   "cell_type": "markdown",
   "metadata": {},
   "source": [
    "\n",
    ">**Question 3.** On considère ici une matrice $S$ avec des colonnes indépendantes où la colonne $j$ est telle que $S_{ij} = \\epsilon_j \\delta_{I_j,i}$ où $I_j$ est une variable uniforme sur $\\{1,\\dots,k\\}$ et $\\epsilon_j$ une variable de Rademacher indépendante de $I_j$. Cette matrice, appelée CountSketch, n'a qu'une seule valeur non nulle par colonne. Reprendre la question 1 et comparer les résultats pour les différents choix de matrice. "
   ]
  },
  {
   "cell_type": "code",
   "execution_count": 81,
   "metadata": {},
   "outputs": [
    {
     "name": "stdout",
     "output_type": "stream",
     "text": [
      "1.0\n"
     ]
    }
   ],
   "source": [
    "def Rademacher():\n",
    "    return np.random.choice( [-1, 1], 1, p=[1 / 2, 1 / 2 ])\n",
    "\n",
    "CountSketch = np.zeros((k ,n))\n",
    "\n",
    "for i in arange(n):\n",
    "    j = np.random.randint(0, k)\n",
    "    CountSketch[j, i] = Rademacher()\n",
    "CountSketch = CountSketch / sqrt(n)\n",
    "\n",
    "\n",
    "print (linalg.norm(CountSketch))"
   ]
  },
  {
   "cell_type": "code",
   "execution_count": 91,
   "metadata": {},
   "outputs": [
    {
     "name": "stdout",
     "output_type": "stream",
     "text": [
      "Matrice CountSketch\n",
      "[[ 0.  0.  0.  0.  0.]\n",
      " [ 0.  1.  0.  0.  0.]\n",
      " [ 0.  0.  0.  0.  0.]\n",
      " [ 0.  0.  0.  0.  0.]\n",
      " [ 0.  0.  0.  0.  0.]\n",
      " [ 0.  0.  0.  0. -1.]\n",
      " [ 1.  0. -1.  0.  0.]\n",
      " [ 0.  0.  0. -1.  0.]\n",
      " [ 0.  0.  0.  0.  0.]\n",
      " [ 0.  0.  0.  0.  0.]]\n",
      "[[ 0.  0.  0.  0.  0.]\n",
      " [ 0.  0.  0.  0. -1.]\n",
      " [ 0.  0.  0.  0.  0.]\n",
      " [ 0.  0.  1. -1.  0.]\n",
      " [ 1.  0.  0.  0.  0.]\n",
      " [ 0.  0.  0.  0.  0.]\n",
      " [ 0.  0.  0.  0.  0.]\n",
      " [ 0.  1.  0.  0.  0.]\n",
      " [ 0.  0.  0.  0.  0.]\n",
      " [ 0.  0.  0.  0.  0.]]\n",
      "[[ 0. -1.  0.  0.  0.]\n",
      " [ 0.  0.  0.  0.  0.]\n",
      " [ 0.  0.  0.  0.  0.]\n",
      " [ 1.  0.  0.  0.  0.]\n",
      " [ 0.  0. -1.  0.  0.]\n",
      " [ 0.  0.  0.  0.  0.]\n",
      " [ 0.  0.  0. -1.  0.]\n",
      " [ 0.  0.  0.  0.  0.]\n",
      " [ 0.  0.  0.  0.  0.]\n",
      " [ 0.  0.  0.  0.  1.]]\n",
      "[[ 0.  0.  0.  0.  0.]\n",
      " [-1.  0.  0. -1.  0.]\n",
      " [ 0.  0.  0.  0.  0.]\n",
      " [ 0.  0.  0.  0.  0.]\n",
      " [ 0.  0.  1.  0.  0.]\n",
      " [ 0.  0.  0.  0.  0.]\n",
      " [ 0.  0.  0.  0.  0.]\n",
      " [ 0. -1.  0.  0.  0.]\n",
      " [ 0.  0.  0.  0.  1.]\n",
      " [ 0.  0.  0.  0.  0.]]\n",
      "k =  10 , proba d'échec : 0.25\n"
     ]
    }
   ],
   "source": [
    "print(\"Matrice CountSketch\")\n",
    "n = 5\n",
    "Ns  = 4\n",
    "epsilon = .2\n",
    "#kList = [25, 50, 100, 200]\n",
    "kList = [10]\n",
    "\n",
    "x = np.random.randn(n)\n",
    "x = x / np.linalg.norm(x)\n",
    "\n",
    "pe = np.zeros(len(kList))\n",
    "\n",
    "for k in kList:\n",
    "    error = np.zeros(Ns)\n",
    "    for i in range(Ns):\n",
    "        E = np.random.choice(np.array([-1, 1]), n)\n",
    "        I = np.random.choice(range(k), n)\n",
    "        P = np.zeros((k,n))\n",
    "        for j in range(n):\n",
    "            P[I[j], j] = E[j]\n",
    "        Px = np.dot(P,x)\n",
    "        error[i] = np.abs(np.linalg.norm(Px)**2 - 1)\n",
    "        print(P)\n",
    "    pe = sum(error>epsilon) / Ns\n",
    "    print( \"k = \", k, \", proba d'échec :\", pe)\n",
    "    \n"
   ]
  },
  {
   "cell_type": "markdown",
   "metadata": {},
   "source": [
    "# Exercice 2"
   ]
  },
  {
   "cell_type": "markdown",
   "metadata": {},
   "source": [
    "Dans cet exercice, nous étudions l'estimation de la norme $\\Vert x \\Vert_2$ d'un vecteur $x \\in \\mathbb{R}^{n}$ \n",
    "à partir d'un tirage d'un sous-ensemble de ses composantes. On considère tout d'abord l'estimation\n",
    "$$\n",
    "\\Vert x \\Vert_2^2  \\approx \\frac{1}{k} \\sum_{l=1}^k n x_{I_l}^2 := N_k(x)\n",
    "$$\n",
    "où les $I_l$ sont des variables indépendantes à valeurs dans $\\{1,\\dots,n\\}$. L'estimateur peut s'écrire \n",
    " $$N_k(x) = \\Vert Sx \\Vert_2^2 $$\n",
    "où $S$ est une matrice aléatoire avec des lignes indépendantes contenant chacune \n",
    "une et une seule valeur non nulle tirée aléatoirement dans $\\{-\\sqrt{\\frac{n}{k}},\\sqrt{\\frac{n}{k}}\\}$.\n"
   ]
  },
  {
   "cell_type": "markdown",
   "metadata": {},
   "source": [
    ">**Question 1.** Créer une fonction <code>estimate_norm_sampling(x,k)</code> qui prend en argument un vecteur $x$ et un entier $k$ et qui retourne l'estimateur $N_k(x)$."
   ]
  },
  {
   "cell_type": "code",
   "execution_count": 108,
   "metadata": {},
   "outputs": [
    {
     "name": "stdout",
     "output_type": "stream",
     "text": [
      "Norme de x : 43.6429357028\n"
     ]
    }
   ],
   "source": [
    "n = 2000\n",
    "\n",
    "x = np.random.randn(n)\n",
    "\n",
    "print(\"Norme de x :\", linalg.norm(x))"
   ]
  },
  {
   "cell_type": "code",
   "execution_count": 95,
   "metadata": {},
   "outputs": [
    {
     "data": {
      "text/plain": [
       "2000"
      ]
     },
     "execution_count": 95,
     "metadata": {},
     "output_type": "execute_result"
    }
   ],
   "source": [
    "size(x)"
   ]
  },
  {
   "cell_type": "code",
   "execution_count": 113,
   "metadata": {},
   "outputs": [],
   "source": [
    "def estimate_norm_sampling(x, k):\n",
    "    n = size(x)\n",
    "    I = np.random.choice(range(k), n)\n",
    "    nkx = np.linalg.norm(x[I] * sqrt(n) / sqrt(k))\n",
    "    return nkx\n",
    "\n",
    "K = arange(1, n+1)\n",
    "Nor = np.zeros(n)\n",
    "for k in K:\n",
    "    Nor[k-1] = estimate_norm_sampling(x, k)\n",
    "\n"
   ]
  },
  {
   "cell_type": "code",
   "execution_count": 114,
   "metadata": {},
   "outputs": [
    {
     "data": {
      "text/plain": [
       "43.759655724055712"
      ]
     },
     "execution_count": 114,
     "metadata": {},
     "output_type": "execute_result"
    },
    {
     "data": {
      "image/png": "[encoded data removed]",
      "text/plain": [
       "<matplotlib.figure.Figure at 0x7f057049e550>"
      ]
     },
     "metadata": {},
     "output_type": "display_data"
    }
   ],
   "source": [
    "\n",
    "plot(K, np.abs(Nor-linalg.norm(x)))\n",
    "Nor[2000-1]"
   ]
  },
  {
   "cell_type": "markdown",
   "metadata": {},
   "source": [
    ">**Question 2.** On considère un vecteur $x\\in\\mathbb{R}$ tel que $x_i = \\exp(-\\alpha^2 (\\frac{i-1}{n-1}-\\frac{1}{2})^2)$ avec $n=100000$. Estimer la probabilité que $\\vert N_k(x) - \\Vert x \\Vert_2^2 \\vert > \\epsilon \\Vert x \\Vert_2^2$ avec $\\epsilon=0.1$, $k=10$, et pour $\\alpha =0,1,2,4,8$. On utilisera pour cela $N_s=1000$ échantillons de $N_k(x)$ et on calculera la fréquence de l'événement $\\{\\vert N_k(x) - \\Vert x \\Vert_2^2 \\vert > \\epsilon \\Vert x \\Vert_2^2\\}.$"
   ]
  },
  {
   "cell_type": "code",
   "execution_count": null,
   "metadata": {},
   "outputs": [],
   "source": [
    "n = 100000\n",
    "k = 10\n",
    "Ns = 1000\n",
    "epsilon = .1\n",
    "alphalist = [0, 1, 2, 4, 8]\n",
    "\n",
    "for alpha in alphalist:\n",
    "    x = np.array([exp(- alpha**2 * ((i-1)/(n-1) - 1/2.)**2)])\n",
    "    nx = np.linalg.norm(x)\n",
    "    "
   ]
  },
  {
   "cell_type": "markdown",
   "metadata": {},
   "source": [
    "On considère maintenant l'estimateur $$\n",
    " N_k^p(x) = \\frac{1}{k}\\sum_{l=1}^k p_{I_l}^{-1}  x_{I_l}^2 \n",
    "$$\n",
    "où les $I_l$ sont des variables i.i.d. à valeurs dans $\\{1,\\dots,n\\}$ telles que $\\mathbb{P}(I_l = i) = p_i$. "
   ]
  },
  {
   "cell_type": "markdown",
   "metadata": {},
   "source": [
    ">**Question 3.** Vérifier que  $N_k^p(x)$ est un estimateur sans biais de $\\Vert x \\Vert^2_2.$ Créer une fonction <code>estimate_norm_sampling_p(x,k,p)</code> qui prend en argument un vecteur $x$, un entier $k$ et un vecteur $p$ de taille $n$ et qui retourne l'estimateur $N_k^p(x)$. "
   ]
  },
  {
   "cell_type": "code",
   "execution_count": null,
   "metadata": {},
   "outputs": [],
   "source": []
  },
  {
   "cell_type": "markdown",
   "metadata": {},
   "source": [
    ">**Question 4.** Vérifier que l'estimateur $N_k^p(x)$ est de variance minimale pour $p_i^\\star = \\lambda x_i^2 $ pour une certaine constante $\\lambda$ que l'on précisera. Effectuer la même analyse que dans la question 2 avec l'estimateur $N_k^{p^\\star}(x)$ puis avec l'estimateur $N_k^p(x)$ où $p = p^\\star + \\frac{0.2}{n} q $ où $q$ est un tirage d'un vecteur aléatoire à entrées indépendantes uniforme sur $(0,1).$"
   ]
  },
  {
   "cell_type": "code",
   "execution_count": null,
   "metadata": {},
   "outputs": [],
   "source": []
  },
  {
   "cell_type": "code",
   "execution_count": null,
   "metadata": {},
   "outputs": [],
   "source": []
  }
 ],
 "metadata": {
  "kernelspec": {
   "display_name": "Python 3",
   "language": "python",
   "name": "python3"
  },
  "language_info": {
   "codemirror_mode": {
    "name": "ipython",
    "version": 3
   },
   "file_extension": ".py",
   "mimetype": "text/x-python",
   "name": "python",
   "nbconvert_exporter": "python",
   "pygments_lexer": "ipython3",
   "version": "3.5.3"
  }
 },
 "nbformat": 4,
 "nbformat_minor": 2
}
