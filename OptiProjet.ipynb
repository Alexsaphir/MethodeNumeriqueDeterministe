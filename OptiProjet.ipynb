{
 "cells": [
  {
   "cell_type": "code",
   "execution_count": 1,
   "metadata": {},
   "outputs": [],
   "source": [
    "%matplotlib inline\n",
    "import numpy as  np   \n",
    "import scipy as sp\n",
    "import time\n",
    "import math\n",
    "from pylab import *\n",
    "from scipy.integrate import quad \n",
    "from matplotlib import animation, rc\n",
    "rc('animation', html='html5');\n",
    "from tqdm import tqdm"
   ]
  },
  {
   "cell_type": "code",
   "execution_count": 20,
   "metadata": {},
   "outputs": [],
   "source": [
    "def createGraph(n):\n",
    "    if (n<1):\n",
    "        return np.array([])\n",
    "    return np.zeros((n, n))\n",
    "\n",
    "def createPos(n, d):\n",
    "    if (n<1 or d<1):\n",
    "        return np.array([])\n",
    "    return np.zeros((n, d))\n",
    "\n",
    "def setVertex(A , i ,j):\n",
    "    A[i, j] = 1\n",
    "    A[j, i] = 1\n",
    "\n",
    "def ringInit2D(A, pA):\n",
    "    for i in range(N):\n",
    "        p = N*np.exp(i * 2.*np.pi*1.j/N)\n",
    "        pA[i, :] = [np.real(p), np.imag(p)]\n",
    "        \n",
    "def plotGraph(A, pA):\n",
    "    # Plot vertices\n",
    "    plot(pA[:, 0], pA[:, 1], 'ro')\n",
    "    for i in range(N):\n",
    "        annotate(str(i), xy=(pA[i, 0], pA[i, 1]), xytext=(pA[i, 0], pA[i, 1])) \n",
    "    axis('equal')\n",
    "    \n",
    "    # Plot edges\n",
    "    for i in range(N):\n",
    "        for j in arange(i + 1, N):\n",
    "            if ( A[i, j] == 1 ):\n",
    "                plot([ pA[i, 0], pA[j, 0] ], [ pA[i, 1], pA[j, 1] ], 'black')\n",
    "\n",
    "                \n",
    "def genRingGraphClose():\n",
    "    A = createGraph(N)\n",
    "    for i in range(N):\n",
    "        setVertex(A, i, (i+1)%N)\n",
    "    return A\n",
    "\n",
    "def genRingGraphOpen():\n",
    "    A = createGraph(N)\n",
    "    for i in range(N-1):\n",
    "        setVertex(A, i, i+1)\n",
    "    return A\n",
    "                \n",
    "def genRandomGraph():\n",
    "    A = createGraph(N)\n",
    "    \n",
    "    for i in range(N):\n",
    "        # select one vertices and connect them\n",
    "        for k in range(np.random.randint(7)):\n",
    "            j = np.random.randint(0, N)\n",
    "            setVertex(A, i, j)\n",
    "    return A\n",
    "\n",
    "def isConnected(A):\n",
    "    if( dGM(A).max() < N):\n",
    "        return True\n",
    "    return False\n",
    "\n",
    "def genRandomGraphConnected():\n",
    "    A = genRandomGraph()\n",
    "    \n",
    "    while( not isConnected(A)):\n",
    "        A = genRandomGraph()\n",
    "    return A\n",
    "\n",
    "def showDist(A, pA):\n",
    "    for i in range(N):\n",
    "        for j in arange(i, N):\n",
    "            print(\"Distance \", i, \"-\", j, \" :\", dG(A, i, j), \" _ \", np.linalg.norm(pA[i, :] - pA[j, :]))"
   ]
  },
  {
   "cell_type": "code",
   "execution_count": 3,
   "metadata": {},
   "outputs": [],
   "source": [
    "def dG(A, i ,j):\n",
    "    # La distance max sur un graph a N points est N-1\n",
    "    # Donc si on parcours le graph N fois est que l'on arrive pas à un point donné dG=inf\n",
    "    if ( i== j):\n",
    "        return 0\n",
    "    \n",
    "    for k in arange(1, N + 1):\n",
    "        if ( np.linalg.matrix_power(A,k)[i, j] > 0 ):\n",
    "            return k\n",
    "    return np.inf\n",
    "\n",
    "def dGM(A):\n",
    "    M = np.zeros((N, N))\n",
    "    \n",
    "    for i in range(N):\n",
    "        for j in arange(i + 1, N):\n",
    "            M[i, j] = dG(A, i, j)\n",
    "            M[j, i] = M[i, j]\n",
    "    return M"
   ]
  },
  {
   "cell_type": "code",
   "execution_count": 4,
   "metadata": {},
   "outputs": [],
   "source": [
    "N = 5\n",
    "D = 2"
   ]
  },
  {
   "cell_type": "code",
   "execution_count": 5,
   "metadata": {},
   "outputs": [
    {
     "name": "stdout",
     "output_type": "stream",
     "text": [
      "Distance  0 - 0  : 0\n",
      "Distance  0 - 1  : 3\n",
      "Distance  0 - 2  : 3\n",
      "Distance  0 - 3  : 2\n",
      "Distance  0 - 4  : 1\n",
      "Distance  1 - 1  : 0\n",
      "Distance  1 - 2  : 2\n",
      "Distance  1 - 3  : 1\n",
      "Distance  1 - 4  : 2\n",
      "Distance  2 - 2  : 0\n",
      "Distance  2 - 3  : 1\n",
      "Distance  2 - 4  : 2\n",
      "Distance  3 - 3  : 0\n",
      "Distance  3 - 4  : 1\n",
      "Distance  4 - 4  : 0\n"
     ]
    }
   ],
   "source": [
    "A = createGraph(N)\n",
    "setVertex(A, 0, 4)\n",
    "setVertex(A, 4, 3)\n",
    "setVertex(A, 3, 2)\n",
    "setVertex(A, 3, 1)\n",
    "\n",
    "pA = createPos(N, D)\n",
    "dA = dGM(A)\n",
    "\n",
    "for i in range(N):\n",
    "    for j in arange(i, N):\n",
    "        print(\"Distance \", i, \"-\", j, \" :\", dG(A, i, j))"
   ]
  },
  {
   "cell_type": "code",
   "execution_count": 6,
   "metadata": {},
   "outputs": [],
   "source": [
    "ringInit2D(A, pA)"
   ]
  },
  {
   "cell_type": "code",
   "execution_count": 7,
   "metadata": {},
   "outputs": [
    {
     "data": {
      "image/png": "[encoded data removed]",
      "text/plain": [
       "<matplotlib.figure.Figure at 0x7f0a793abcc0>"
      ]
     },
     "metadata": {},
     "output_type": "display_data"
    }
   ],
   "source": [
    "plotGraph(A, pA)"
   ]
  },
  {
   "cell_type": "code",
   "execution_count": 8,
   "metadata": {},
   "outputs": [
    {
     "data": {
      "text/plain": [
       "array([ 1.54508497,  4.75528258])"
      ]
     },
     "execution_count": 8,
     "metadata": {},
     "output_type": "execute_result"
    }
   ],
   "source": [
    "pA[1,:]"
   ]
  },
  {
   "cell_type": "code",
   "execution_count": 9,
   "metadata": {},
   "outputs": [],
   "source": [
    "def S(pA, dA):\n",
    "    s = 0.\n",
    "    for i in range(N):\n",
    "        for j in arange(i+1, N):\n",
    "            s += (dA[i, j] - np.linalg.norm(pA[i, :] - pA[j, :]))**2\n",
    "    return s\n",
    "    "
   ]
  },
  {
   "cell_type": "code",
   "execution_count": 10,
   "metadata": {},
   "outputs": [
    {
     "data": {
      "text/plain": [
       "378.74305637417365"
      ]
     },
     "execution_count": 10,
     "metadata": {},
     "output_type": "execute_result"
    }
   ],
   "source": [
    "S(pA, dA)"
   ]
  },
  {
   "cell_type": "code",
   "execution_count": 11,
   "metadata": {},
   "outputs": [],
   "source": [
    "def opti1(A, n, d, Nk):\n",
    "    pA = createPos(n, d)\n",
    "    dA = dGM(A)\n",
    "    ringInit2D(A, pA)\n",
    "    \n",
    "    \n",
    "    for k in tqdm(range(Nk)):\n",
    "        val = S(pA, dA)\n",
    "        i = np.random.randint(0, n)\n",
    "        x = np.random.uniform(-1,1)\n",
    "        y = np.random.uniform(-1,1)\n",
    "        pA[i, :] += [x, y]\n",
    "        \n",
    "        if(val < S(pA, dA)):\n",
    "            pA[i, :] -= [x, y]\n",
    "    plotGraph(A, pA)\n",
    "    return pA\n",
    "    "
   ]
  },
  {
   "cell_type": "code",
   "execution_count": 12,
   "metadata": {},
   "outputs": [
    {
     "name": "stderr",
     "output_type": "stream",
     "text": [
      "100%|██████████| 5000/5000 [00:00<00:00, 8098.46it/s]\n"
     ]
    },
    {
     "data": {
      "text/plain": [
       "0.096489575772237574"
      ]
     },
     "execution_count": 12,
     "metadata": {},
     "output_type": "execute_result"
    },
    {
     "data": {
      "image/png": "[encoded data removed]",
      "text/plain": [
       "<matplotlib.figure.Figure at 0x7f0a4e91eef0>"
      ]
     },
     "metadata": {},
     "output_type": "display_data"
    }
   ],
   "source": [
    "#N = 10\n",
    "pA = opti1(A, N, D,5000)\n",
    "S(pA, dA)"
   ]
  },
  {
   "cell_type": "code",
   "execution_count": 24,
   "metadata": {},
   "outputs": [
    {
     "data": {
      "image/png": "[encoded data removed]",
      "text/plain": [
       "<matplotlib.figure.Figure at 0x7f0a4c088358>"
      ]
     },
     "metadata": {},
     "output_type": "display_data"
    }
   ],
   "source": [
    "N = 30\n",
    "#A = genRandomGraphConnected()\n",
    "A = genRingGraphClose()\n",
    "pA = createPos(N, D)\n",
    "dA = dGM(A)\n",
    "ringInit2D(A, pA)\n",
    "plotGraph(A, pA)"
   ]
  },
  {
   "cell_type": "code",
   "execution_count": 27,
   "metadata": {},
   "outputs": [
    {
     "name": "stderr",
     "output_type": "stream",
     "text": [
      "100%|██████████| 50000/50000 [03:34<00:00, 233.46it/s]\n"
     ]
    },
    {
     "data": {
      "text/plain": [
       "502.69141933500703"
      ]
     },
     "execution_count": 27,
     "metadata": {},
     "output_type": "execute_result"
    },
    {
     "data": {
      "image/png": "[encoded data removed]",
      "text/plain": [
       "<matplotlib.figure.Figure at 0x7f0a4c0d45f8>"
      ]
     },
     "metadata": {},
     "output_type": "display_data"
    }
   ],
   "source": [
    "pA = opti1(A, N, D, 50000)\n",
    "S(pA, dA)"
   ]
  },
  {
   "cell_type": "code",
   "execution_count": null,
   "metadata": {},
   "outputs": [],
   "source": []
  },
  {
   "cell_type": "code",
   "execution_count": null,
   "metadata": {},
   "outputs": [],
   "source": [
    "def dGB(A, dA):\n",
    "    B = (I-)\n",
    "    "
   ]
  }
 ],
 "metadata": {
  "kernelspec": {
   "display_name": "Python 3",
   "language": "python",
   "name": "python3"
  },
  "language_info": {
   "codemirror_mode": {
    "name": "ipython",
    "version": 3
   },
   "file_extension": ".py",
   "mimetype": "text/x-python",
   "name": "python",
   "nbconvert_exporter": "python",
   "pygments_lexer": "ipython3",
   "version": "3.6.3"
  }
 },
 "nbformat": 4,
 "nbformat_minor": 2
}
