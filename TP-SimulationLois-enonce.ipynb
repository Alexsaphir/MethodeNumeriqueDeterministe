{
 "cells": [
  {
   "cell_type": "markdown",
   "metadata": {},
   "source": [
    "<center>\n",
    "# Simuation de lois"
   ]
  },
  {
   "cell_type": "markdown",
   "metadata": {},
   "source": [
    "# Exercice 1 - Simulation de lois de Bernoulli et de lois binomiales"
   ]
  },
  {
   "cell_type": "code",
   "execution_count": 1,
   "metadata": {},
   "outputs": [],
   "source": [
    "%matplotlib inline\n",
    "import numpy as  np   \n",
    "import scipy as sp\n",
    "from pylab import *"
   ]
  },
  {
   "cell_type": "markdown",
   "metadata": {},
   "source": [
    "On rappelle qu'une variable de Bernoulli de paramètre $p$ prend la valeur $1$ avec la probabilité $p$, et $0$ avec la probabilité $(1-p)$.\n",
    "\n",
    "Une variable binomiale de paramètres $(n,p)$ peut être vue comme la somme de $n$ v.a. indépendantes de loi de Bernoulli de paramètre $p$."
   ]
  },
  {
   "cell_type": "markdown",
   "metadata": {},
   "source": [
    "<p style=\"border:2px; border-style:solid; padding: 0.5em;border-color:#287EC7\"> \n",
    "En utilisant des [variables uniformes](https://docs.scipy.org/doc/numpy-1.13.0/reference/generated/numpy.random.uniform.html) sur $[0,1]$, construire une fonction <code>bernp()</code> qui renvoie $n$ variables de Bernoulli indépendantes de paramètre $p$ .\n",
    "Vérifier graphiquement le bon fonctionnement de cette fonction. On pourra s'inspirer de [cet exemple](https://matplotlib.org/gallery/specialty_plots/system_monitor.html#sphx-glr-gallery-specialty-plots-system-monitor-py).\n",
    "<p>"
   ]
  },
  {
   "cell_type": "code",
   "execution_count": 13,
   "metadata": {},
   "outputs": [
    {
     "ename": "NameError",
     "evalue": "name 'Prop' is not defined",
     "output_type": "error",
     "traceback": [
      "\u001b[0;31m---------------------------------------------------------------------------\u001b[0m",
      "\u001b[0;31mNameError\u001b[0m                                 Traceback (most recent call last)",
      "\u001b[0;32m<ipython-input-13-e9d1834b8118>\u001b[0m in \u001b[0;36m<module>\u001b[0;34m()\u001b[0m\n\u001b[1;32m      5\u001b[0m \u001b[0;34m\u001b[0m\u001b[0m\n\u001b[1;32m      6\u001b[0m \u001b[0mfig\u001b[0m\u001b[0;34m,\u001b[0m \u001b[0max\u001b[0m \u001b[0;34m=\u001b[0m \u001b[0mplt\u001b[0m\u001b[0;34m.\u001b[0m\u001b[0msubplots\u001b[0m\u001b[0;34m(\u001b[0m\u001b[0;34m)\u001b[0m\u001b[0;34m\u001b[0m\u001b[0m\n\u001b[0;32m----> 7\u001b[0;31m \u001b[0mbar\u001b[0m\u001b[0;34m(\u001b[0m\u001b[0mnp\u001b[0m\u001b[0;34m.\u001b[0m\u001b[0marange\u001b[0m\u001b[0;34m(\u001b[0m\u001b[0;36m2\u001b[0m\u001b[0;34m)\u001b[0m\u001b[0;34m,\u001b[0m \u001b[0mProp\u001b[0m\u001b[0;34m,\u001b[0m \u001b[0mcolor\u001b[0m\u001b[0;34m=\u001b[0m\u001b[0;34m'r'\u001b[0m\u001b[0;34m)\u001b[0m\u001b[0;34m\u001b[0m\u001b[0m\n\u001b[0m",
      "\u001b[0;31mNameError\u001b[0m: name 'Prop' is not defined"
     ]
    },
    {
     "data": {
      "image/png": "[encoded data removed]",
      "text/plain": [
       "<matplotlib.figure.Figure at 0x7f07ea721048>"
      ]
     },
     "metadata": {},
     "output_type": "display_data"
    }
   ],
   "source": [
    "def bernp(n,p):\n",
    "    s= np.random.uniform(0.0, 1.0, n)\n",
    "    s= (s<=p)    \n",
    "    return s.astype(int)\n",
    "\n",
    "fig, ax = plt.subplots()\n",
    "bar(np.arange(2), Prop, color='r')\n"
   ]
  },
  {
   "cell_type": "markdown",
   "metadata": {},
   "source": [
    "<p style=\"border:2px; border-style:solid; padding: 0.5em;border-color:#287EC7\"> \n",
    "Construire une fonction <code>binnp1</code> qui renvoie une variable binomiale de paramètres $n$ et $p$.\n",
    "<p>"
   ]
  },
  {
   "cell_type": "code",
   "execution_count": 14,
   "metadata": {},
   "outputs": [],
   "source": [
    "def binnp1(n, p):\n",
    "    X = bernp(n,p)\n",
    "    return X.sum()"
   ]
  },
  {
   "cell_type": "code",
   "execution_count": 17,
   "metadata": {},
   "outputs": [
    {
     "data": {
      "text/plain": [
       "57"
      ]
     },
     "execution_count": 17,
     "metadata": {},
     "output_type": "execute_result"
    }
   ],
   "source": [
    "binnp1(100, .5)"
   ]
  },
  {
   "cell_type": "markdown",
   "metadata": {},
   "source": [
    "<p style=\"border:2px; border-style:solid; padding: 0.5em;border-color:#287EC7\"> \n",
    "Construire enfin une fonction <code>binnpk</code> qui renvoie $k$ variables binomiales indépendantes de paramètres $n$ et $p$. Vérifier graphiquement le bon fonctionnement de cette fonction.  \n",
    "<p>"
   ]
  },
  {
   "cell_type": "code",
   "execution_count": 18,
   "metadata": {},
   "outputs": [],
   "source": [
    "def binnpk(k, n, p):\n",
    "    X = np.random.uniform(0, 1, (k,n))\n",
    "    X = (X < p) *1\n",
    "    return X.sum(axis=1)\n",
    "    "
   ]
  },
  {
   "cell_type": "code",
   "execution_count": null,
   "metadata": {},
   "outputs": [],
   "source": []
  },
  {
   "cell_type": "markdown",
   "metadata": {},
   "source": [
    "<p style=\"border:2px; border-style:solid; padding: 0.5em;border-color:#287EC7\"> \n",
    "Lorsque $n \\rightarrow \\infty$ et $np \\rightarrow \\lambda$ (et donc $p \\rightarrow 0$), on sait que la loi Binomiale de paramètres $n$ et $p$ converge en loi vers une loi de Poisson de paramètre $\\lambda$.   \n",
    "- Générer $N_{sim}=1000$ réalisations indépendantes d'une loi binomiale de paramètres $n$ et $p$.   \n",
    "- Représentez l'histogramme de l'échantillon ainsi obtenu.   \n",
    "- Superposez sur ce dernier les valeurs des probabilités [d'une loi binomiale](https://docs.scipy.org/doc/scipy-0.19.1/reference/generated/scipy.stats.binom.html) de paramètre $n$ et $p$ ainsi que les valeurs des probabilités d'une [loi de Poisson]() de paramètre $np$.  \n",
    "- Représenter ces graphiques pour (n,p) = (10,1/2), (50,1/10), (100, 1/20) et (200, 1/40).  \n",
    "- Commentez les résultats obtenus.  \n",
    "</p>"
   ]
  },
  {
   "cell_type": "code",
   "execution_count": 22,
   "metadata": {},
   "outputs": [],
   "source": [
    "from scipy.stats import binom, poisson, norm"
   ]
  },
  {
   "cell_type": "code",
   "execution_count": 25,
   "metadata": {},
   "outputs": [
    {
     "data": {
      "image/png": "[encoded data removed]",
      "text/plain": [
       "<matplotlib.figure.Figure at 0x7f07e40639b0>"
      ]
     },
     "metadata": {},
     "output_type": "display_data"
    }
   ],
   "source": [
    "n = 50\n",
    "p = .1\n",
    "\n",
    "X = binnpk(10000, n, p)\n",
    "hist(X, normed = 1, alpha = .4, bins = arange(-.5, 20.5), label=\"simu\");\n",
    "xlabel('x');\n",
    "ylabel(\"densite\")\n",
    "title(\"Densité d'un echantillon binomial\")\n",
    "scatter(arange(20), binom.pmf(arange(20),n,p), label='binom');\n",
    "scatter(arange(20), poisson.pmf(arange(20),n*p), label='pOISSON');\n",
    "legend();"
   ]
  },
  {
   "cell_type": "markdown",
   "metadata": {},
   "source": [
    "<p style=\"border:2px; border-style:solid; padding: 0.5em;border-color:#287EC7\"> \n",
    "Lorsque $p$ est fixé et $n$ grand, par quelle loi peut-on approcher la loi binomiale de paramètres $n$ et $p$ ?   \n",
    "Illustrer cette convergence en procédant comme dans la question précédente.\n",
    "</p>"
   ]
  },
  {
   "cell_type": "code",
   "execution_count": 28,
   "metadata": {
    "scrolled": true
   },
   "outputs": [
    {
     "data": {
      "image/png": "[encoded data removed]",
      "text/plain": [
       "<matplotlib.figure.Figure at 0x7f08088d8160>"
      ]
     },
     "metadata": {},
     "output_type": "display_data"
    }
   ],
   "source": [
    "nvec = [10,50,100,200]\n",
    "pvec = [.5,.1,1/20,1/40]\n",
    "\n",
    "f, axarr = plt.subplots(4, figsize=(10,10), sharex=True)\n",
    "\n",
    "for i in arange(4):\n",
    "    X= binnpk(10000,nvec[i],pvec[i]);\n",
    "    axarr[i].hist(X,normed=1,alpha=.4,bins=arange(-.5,20.5),label=\"simu\");\n",
    "    axarr[i].set_xlabel('x');\n",
    "    axarr[i].set_ylabel('density');\n",
    "    axarr[i].scatter(arange(20), binom.pmf(arange(20),nvec[i],pvec[i]), label='binom');\n",
    "    axarr[i].scatter(arange(20), poisson.pmf(arange(20),nvec[i]*pvec[i]), label='poisson');\n",
    "    \n",
    "    axarr[0].set_title(\"Densité dun echantillon binomial\");\n",
    "    axarr[0].legend();"
   ]
  },
  {
   "cell_type": "markdown",
   "metadata": {},
   "source": [
    "## Exercice 2 - Simulation d'une loi triangulaire par la méthode d'inversion\n",
    "On considère la loi de densité triangulaire $f$ suivante:\n",
    "$$ f(x)=0,\\, \\text{si}\\, x\\leq 0 $$\n",
    "$$ f(x)=x,\\, \\text{si}\\, x \\in ]0,1]$$\n",
    "$$ f(x)=2-x,\\, \\text{si}\\, x\\in ]1,2]$$\n",
    "$$ f(x)=0,\\, \\text{si}\\, x \\geq 2$$\n",
    "\n",
    "<IMG SRC=\"densite.png\" ALT=\"densité triangulaire\" WIDTH=400 HEIGHT=400>"
   ]
  },
  {
   "cell_type": "markdown",
   "metadata": {},
   "source": [
    "<p style=\"border:2px; border-style:solid; padding: 0.5em;border-color:#287EC7\"> Utilisez la méthode d’inversion pour simuler des variables aléatoires dont la loi a pour densité la fonction triangulaire f définie ci-dessus. Vérifiez graphiquement que la loi des variables aléatoires obtenues correspond bien à celle de la densité f.\n",
    "</p>"
   ]
  },
  {
   "cell_type": "code",
   "execution_count": 76,
   "metadata": {},
   "outputs": [],
   "source": [
    "def densité_f(x):\n",
    "    \n",
    "    return 0*np.logical_or((x <= 0), (x > 2)) + x*np.logical_and((x > 0),(x <= 1)) + (2 - x)*np.logical_and((x > 1), (x <= 2))\n",
    "    \n",
    "def repart_f(x):\n",
    "    \n",
    "    return 0*(x <= 0) + 1*(x>2) + (np.power(x, 2)/2)*np.logical_and((x > 0),(x <= 1)) + (2*x-np.power(x, 2)/2 - 1)*np.logical_and((x > 1),(x <= 2))\n",
    "\n",
    "def F_recip(y):\n",
    "    return np.sqrt(2.*y)*(y>=0)*(y<=1/2)+(2-np.sqrt(2*(1-y)))*(y<=1)*(y>1/2)"
   ]
  },
  {
   "cell_type": "code",
   "execution_count": 77,
   "metadata": {},
   "outputs": [
    {
     "data": {
      "text/plain": [
       "[<matplotlib.lines.Line2D at 0x7f07e37a2da0>]"
      ]
     },
     "execution_count": 77,
     "metadata": {},
     "output_type": "execute_result"
    },
    {
     "data": {
      "image/png": "[encoded data removed]",
      "text/plain": [
       "<matplotlib.figure.Figure at 0x7f07e3e28b00>"
      ]
     },
     "metadata": {},
     "output_type": "display_data"
    }
   ],
   "source": [
    "plot(linspace(-4,4,1000), densité_f(linspace(-4,4,1000)))\n",
    "plot(linspace(-4,4,1000), repart_f(linspace(-4,4,1000)))"
   ]
  },
  {
   "cell_type": "code",
   "execution_count": 78,
   "metadata": {},
   "outputs": [
    {
     "data": {
      "text/plain": [
       "[<matplotlib.lines.Line2D at 0x7f07e3d3fb00>]"
      ]
     },
     "execution_count": 78,
     "metadata": {},
     "output_type": "execute_result"
    },
    {
     "data": {
      "image/png": "[encoded data removed]",
      "text/plain": [
       "<matplotlib.figure.Figure at 0x7f07e3c2a1d0>"
      ]
     },
     "metadata": {},
     "output_type": "display_data"
    }
   ],
   "source": [
    "y= np.arange(0,1,.01)\n",
    "plt.plot(y,F_recip(y))"
   ]
  },
  {
   "cell_type": "code",
   "execution_count": 79,
   "metadata": {},
   "outputs": [],
   "source": [
    "X = np.random.uniform(0,1,10000)\n",
    "Y=F_recip(X)"
   ]
  },
  {
   "cell_type": "markdown",
   "metadata": {},
   "source": [
    "Verification graphique"
   ]
  },
  {
   "cell_type": "code",
   "execution_count": 80,
   "metadata": {},
   "outputs": [
    {
     "data": {
      "image/png": "[encoded data removed]",
      "text/plain": [
       "<matplotlib.figure.Figure at 0x7f07e375edd8>"
      ]
     },
     "metadata": {},
     "output_type": "display_data"
    }
   ],
   "source": [
    "plt.hist(Y, bins=50,normed=1);\n",
    "plt.plot(X, densité_f(X));"
   ]
  },
  {
   "cell_type": "markdown",
   "metadata": {},
   "source": [
    "## Exercice 3 - Simulation de la lois gamma par l'algorithme d'Ahrens et Dieters "
   ]
  },
  {
   "cell_type": "markdown",
   "metadata": {},
   "source": [
    "Cet exercice a pour objectif de simuler des variables aléatoires $\\Gamma(a,b)$ avec $a,b>0$ quelconques, sans utiliser [numpy.random.gamma](https://docs.scipy.org/doc/numpy-1.13.0/reference/generated/numpy.random.gamma.html) évidemment. On sait (c.f. le cours) que ce probléme se raméne essentiellement à simuler une loi $\\Gamma(a,1)$ avec $a < 1$. On note \n",
    "\\begin{equation*}\n",
    "f(x,a)=\\frac{1}{\\Gamma(a)} e^{-x} x^{a-1} \\mathbb{1}_{[0,+\\infty[}(x)\n",
    "\\end{equation*}\n",
    "\n",
    "a densité de le loi $\\Gamma(a,1)$.\n",
    "Pour simuler selon cette loi (avec $a < 1$ fixé), on va appliquer une méthode de rejet en utilisant comme enveloppe la loi de densité sur $\\mathbb{R}$\n",
    "\n",
    "\\begin{equation*}\n",
    "g(x,a)=\\frac{ae}{a+e}\\left(x^{a-1} \\mathbb{1}_{]0,1[}(x)+ e^{-x}\\mathbb{1}_{[1,+\\infty[}(x)\\right).\n",
    "\\end{equation*}\n",
    "\n",
    "En effet, on peut montrer que pour $c=(a+e)/(a e \\Gamma(a))$, on a alors $ f(x,a) \\leq c g(x,a)$ pour tout $x \\in \\mathbb{R}$. Puisque l'on sait simuler des variables aléatoire de densité $g$ (voir plus bas), il est donc possible de simuler des variables aléatoires de densité $f$ par la méthode de rejet dont on rappelle l'algorithme ci-dessous :\n"
   ]
  },
  {
   "cell_type": "markdown",
   "metadata": {},
   "source": [
    "\n",
    "** Algorithme de rejet :**\n",
    "- 1: Simuler :\n",
    " - $X$ de densité $g(\\cdot,a)$ ;\n",
    " - $U$ de loi $\\mathcal{U}([0,1])$ (indépendente de $X$) ;\n",
    "- 2: Si $( c g(X,a)  U >  f(X,a) )$ \n",
    " - Alors retourner en 1 (rejet) ; \n",
    " - Sinon accepter $X$ comme un tirage aléatoire de densité de probabilité $f(\\cdot,a)$."
   ]
  },
  {
   "cell_type": "code",
   "execution_count": null,
   "metadata": {
    "collapsed": true
   },
   "outputs": [],
   "source": [
    "%matplotlib inline\n",
    "import numpy as np  \n",
    "import matplotlib.pyplot as plt\n",
    "import numpy.random as rd \n",
    "import scipy as sp\n",
    "import scipy.special as spc"
   ]
  },
  {
   "cell_type": "markdown",
   "metadata": {},
   "source": [
    "### 1- Représentation de la densité $f$ et de son enveloppe\n",
    "\n",
    "\n",
    "- Créer deux fonction `f` et `g`  de paramètres $x$ et $a$ pour les deux densités définies plus haut."
   ]
  },
  {
   "cell_type": "code",
   "execution_count": null,
   "metadata": {
    "collapsed": true
   },
   "outputs": [],
   "source": []
  },
  {
   "cell_type": "markdown",
   "metadata": {},
   "source": [
    "- Tracer la densité $f$ et la courbe de la fonction $c g$."
   ]
  },
  {
   "cell_type": "code",
   "execution_count": null,
   "metadata": {
    "collapsed": true
   },
   "outputs": [],
   "source": []
  },
  {
   "cell_type": "markdown",
   "metadata": {},
   "source": [
    "### 2- Simulation selon la loi de densité $g$\n",
    "\n",
    "On note $G(\\cdot,a)$ la fonction de répartition associée à la densité $g(\\cdot,a)$.\n",
    "\n",
    "- Écrire une fonction `Ginv`, dépendant de $z$ et $a$, qui renvoie l'inverse de la fonction $G(\\cdot,a)$ :\n",
    "\\begin{equation*}\n",
    "Ginv(z,a)=\\left(\\frac{a+e}{e} z\\right)^{1/a} \\mathbb{1}_{(z < \\frac{e}{a+e})}-\\log\\left(\\frac{a+e}{a e}(1- z)\\right)\\mathbb{1}_{(z \\geq \\frac{e}{a+e})} \\:†.\n",
    "\\end{equation*}"
   ]
  },
  {
   "cell_type": "code",
   "execution_count": null,
   "metadata": {
    "collapsed": true
   },
   "outputs": [],
   "source": []
  },
  {
   "cell_type": "markdown",
   "metadata": {},
   "source": [
    "- En utilisant la méthode d'inversion, créer un fonction `gLoi` permettant de simuler un échantillon de taille $n$ de variables aléatoire indépendantes de densité $g(\\cdot,a)$. "
   ]
  },
  {
   "cell_type": "code",
   "execution_count": null,
   "metadata": {
    "collapsed": true
   },
   "outputs": [],
   "source": []
  },
  {
   "cell_type": "markdown",
   "metadata": {},
   "source": [
    "- Vérifiez graphiquement que la loi des variables aléatoires obtenues correspond bien à celle de la densité $g$."
   ]
  },
  {
   "cell_type": "code",
   "execution_count": null,
   "metadata": {},
   "outputs": [],
   "source": []
  },
  {
   "cell_type": "markdown",
   "metadata": {},
   "source": [
    "### 3- Méthode de rejet  pour $a <1$  \n",
    "\n",
    "- Définir une fonction `gamrej`, dépendant de\n",
    "$n$ et de $a$, qui renvoie pour tout $a < 1$ un vecteur de $n$ nombres\n",
    "aléatoires tirés suivant la loi $\\Gamma(a,1)$. "
   ]
  },
  {
   "cell_type": "code",
   "execution_count": null,
   "metadata": {
    "collapsed": true
   },
   "outputs": [],
   "source": []
  },
  {
   "cell_type": "markdown",
   "metadata": {},
   "source": [
    "- Vérifiez graphiquement que la loi des variables aléatoires obtenues correspond bien é celle de la densité $\\Gamma(a,1)$."
   ]
  },
  {
   "cell_type": "code",
   "execution_count": null,
   "metadata": {},
   "outputs": [],
   "source": []
  },
  {
   "cell_type": "markdown",
   "metadata": {},
   "source": [
    " ### 4- Efficacité de l'algorithme de rejet\n",
    " \n",
    " On souhaite évaluer \"l'efficacité\" de l'algorithme de rejet selon\n",
    "  l'enveloppe $g(\\cdot,a)$ choisie.\n",
    "  \n",
    "- Modifier la fonction  `gamrej `pour obtenir aussi en  sortie un vecteur de taille $n$ donnant, pour chaque  variable\n",
    "  aléatoire tirée selon la loi $\\Gamma(a,1)$, le nombre d'essais qui a été nécessaire (i.e le nombre de passages dans la boucle avant une réussite)."
   ]
  },
  {
   "cell_type": "code",
   "execution_count": null,
   "metadata": {
    "collapsed": true
   },
   "outputs": [],
   "source": []
  },
  {
   "cell_type": "markdown",
   "metadata": {},
   "source": [
    " - Quelle est la loi du nombre d'essais nécessaire pour simuler une variable selon la loi $\\Gamma(a,1)$ ? Vérifier  graphiquement votre réponse"
   ]
  },
  {
   "cell_type": "code",
   "execution_count": null,
   "metadata": {
    "collapsed": true
   },
   "outputs": [],
   "source": []
  },
  {
   "cell_type": "markdown",
   "metadata": {},
   "source": [
    "On propose d'utiliser l'algorithme de rejet avec une seconde enveloppe  :\n",
    "  \\begin{equation*}\n",
    "  g_2(x,a)=\\frac{a}{a+1}\\left(x^{a-1} \\mathbb{1}_{]0,1[}(x)+\n",
    "  \\frac{1}{x^2}\\mathbb{1}_{[1,+\\infty[}(x)\\right). \n",
    "  \\end{equation*}\n",
    " \n",
    " - Vérifiez que $g_2$ est une densité et trouver une constante $c_2$ telle que  $\n",
    "  f(x,a) \\leq c_2 g_2(x,a)$ pour tout $x \\in \\mathbb{R}$.\n",
    "  \n",
    "- Sur un même graphique, tracer la densité $f$, la fonction $c g$ et  la fonction $c_2 g_2$. "
   ]
  },
  {
   "cell_type": "code",
   "execution_count": null,
   "metadata": {
    "collapsed": true
   },
   "outputs": [],
   "source": []
  },
  {
   "cell_type": "markdown",
   "metadata": {},
   "source": [
    "- Pour simuler une loi $\\Gamma(a,1)$ par la méthode du rejet, laquelle des deux enveloppes $c_2 g_2$ et  $c g$ est-il préférable de choisir ?"
   ]
  },
  {
   "cell_type": "markdown",
   "metadata": {},
   "source": [
    "- Créer une fonction permettant de simuler une  variable aléatoire de densité $g_2(\\cdot,a)$ en utilisant la méthode  d'inversion. "
   ]
  },
  {
   "cell_type": "code",
   "execution_count": null,
   "metadata": {
    "collapsed": true
   },
   "outputs": [],
   "source": []
  },
  {
   "cell_type": "markdown",
   "metadata": {},
   "source": [
    "- Définir une fonction `gamrej2`, similaire à la fonction\n",
    "  `gamrej`,  pour simuler un vecteur de $n$ nombres aléatoires tirés\n",
    "  suivant la loi $\\Gamma(a,1)$. "
   ]
  },
  {
   "cell_type": "code",
   "execution_count": null,
   "metadata": {
    "collapsed": true
   },
   "outputs": [],
   "source": []
  },
  {
   "cell_type": "markdown",
   "metadata": {},
   "source": [
    "- Vérifiez graphiquement que la loi des variables aléatoires obtenues correspond bien à celle de la densité $\\Gamma(a,1)$."
   ]
  },
  {
   "cell_type": "code",
   "execution_count": null,
   "metadata": {
    "collapsed": true
   },
   "outputs": [],
   "source": []
  },
  {
   "cell_type": "markdown",
   "metadata": {},
   "source": [
    "- Comparer l'efficacité des algorithmes de rejet lorsqu'on utilise les enveloppes $g$   et $g2$. "
   ]
  },
  {
   "cell_type": "code",
   "execution_count": null,
   "metadata": {
    "collapsed": true
   },
   "outputs": [],
   "source": []
  },
  {
   "cell_type": "markdown",
   "metadata": {},
   "source": [
    "### 5-Simulation de lois exponentielles\n",
    "\n",
    "- En utilisant  la méthode d'inversion, écrire une fonction `expo` d'arguments de paramètre $l$ et un entier $n$, qui renvoie $n$ variables exponentielle de paramètre $l$. "
   ]
  },
  {
   "cell_type": "code",
   "execution_count": null,
   "metadata": {
    "collapsed": true
   },
   "outputs": [],
   "source": []
  },
  {
   "cell_type": "markdown",
   "metadata": {},
   "source": [
    "### 6- Simulation de lois Gamma dans le cas général\n",
    "\n",
    "- En utilisant  la fonction `expol`, définir une fonction `gamp` d'arguments $n\\in \\mathbb{N}$ et  $p \\in \\mathbb{N}$, qui renvoie $n$ réalisations de la loi Gamma(n,p)."
   ]
  },
  {
   "cell_type": "code",
   "execution_count": null,
   "metadata": {
    "collapsed": true
   },
   "outputs": [],
   "source": []
  },
  {
   "cell_type": "markdown",
   "metadata": {},
   "source": [
    "- En utilisant les fonctions `gamrej` et `gamp`, définir une fonction `gamma_gen` d'arguments $n\\in \\mathbb{N} $, $a>0$ et $b>0$, qui renvoie $n$ réalisations de la loi Gamma(a,b)."
   ]
  },
  {
   "cell_type": "code",
   "execution_count": null,
   "metadata": {
    "collapsed": true
   },
   "outputs": [],
   "source": []
  },
  {
   "cell_type": "markdown",
   "metadata": {},
   "source": [
    "- Vérifier graphiquement que les variables simulées ont bien la loi souhaitée."
   ]
  },
  {
   "cell_type": "code",
   "execution_count": null,
   "metadata": {
    "collapsed": true
   },
   "outputs": [],
   "source": []
  }
 ],
 "metadata": {
  "kernelspec": {
   "display_name": "Python 3",
   "language": "python",
   "name": "python3"
  },
  "language_info": {
   "codemirror_mode": {
    "name": "ipython",
    "version": 3
   },
   "file_extension": ".py",
   "mimetype": "text/x-python",
   "name": "python",
   "nbconvert_exporter": "python",
   "pygments_lexer": "ipython3",
   "version": "3.5.3"
  }
 },
 "nbformat": 4,
 "nbformat_minor": 2
}
