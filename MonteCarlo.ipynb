{
 "cells": [
  {
   "cell_type": "markdown",
   "metadata": {},
   "source": [
    "<center>\n",
    "# TP 3 - Méthodes de Monte-Carlo"
   ]
  },
  {
   "cell_type": "markdown",
   "metadata": {},
   "source": [
    "On s'intéresse ici à l'estimation d'une espérance mathématique à partir de la méthode de Monte-Carlo, méthode numérique probabiliste permettant d'intégrer une fonction par rapport à une mesure de probabilité. "
   ]
  },
  {
   "cell_type": "code",
   "execution_count": 3,
   "metadata": {},
   "outputs": [],
   "source": [
    "%matplotlib inline\n",
    "from math import *\n",
    "import numpy as  np   \n",
    "import scipy as sp\n",
    "import scipy.special as spc\n",
    "from pylab import *"
   ]
  },
  {
   "cell_type": "markdown",
   "metadata": {},
   "source": [
    "## Exercice 1"
   ]
  },
  {
   "cell_type": "markdown",
   "metadata": {},
   "source": [
    "On souhaite estimer l'intégrale $$I = \\int_{0}^2 x^2 dx \\quad (=\\frac{8}{3})$$"
   ]
  },
  {
   "cell_type": "markdown",
   "metadata": {},
   "source": [
    ">**Question 1.** Soit $X$ et $Y$ des variables aléatoires ayant pour densités respectives\n",
    "$$f_X(x) = \\frac{1}{2} \\mathbb{1}_{[0,2]}(x) \\quad \\text{et} \\quad f_Y(y) = \\frac{1}{2} y \\mathbb{1}_{[0,2]}(y).$$\n",
    "Vérifier que \n",
    "$$I = \\mathbb{E}(g(X)) = \\mathbb{E}(h(Y))$$\n",
    "où $g$ et $h$ sont deux fonctions à déterminer, puis vérifier que   \n",
    "$$Var(g(X)) = \\frac{256}{45} = 5.69 \\quad \\text{et} \\quad  \n",
    "Var(h(Y)) = \\frac{8}{9} = 0.89$$\n",
    "On note par la suite $\\hat I_n^1$ et $\\hat I_n^2$ les estimateurs de Monte-Carlo respectivement définis par \n",
    "$$\n",
    "\\hat I_n^1 = \\frac{1}{n}\\sum_{i=1}^n g(X_i)\\quad \\text{et} \\quad \\hat I_n^2 = \\frac{1}{n}\\sum_{i=1}^n h(Y_i)\n",
    "$$\n",
    "\n",
    "Définir les fonctions <code>g</code> et <code>h</code>."
   ]
  },
  {
   "cell_type": "code",
   "execution_count": 46,
   "metadata": {},
   "outputs": [],
   "source": [
    "I= 8./3.\n",
    "\n",
    "def g(x):\n",
    "    return 2. * x**2\n",
    "def h(y):\n",
    "    return 2.* y"
   ]
  },
  {
   "cell_type": "markdown",
   "metadata": {},
   "source": [
    ">**Question 2.** Créer une fonction <code>MCtraj1</code> (resp. <code>MCtraj2</code>) qui prend en argument $n$ et \n",
    "qui renvoie un vecteur de taille $n$ contenant les valeurs de\n",
    "$ \\hat I_k^1$ (resp. $\\hat I_k^2$) pour $k=1,\\dots,n $, obtenues à partir d'un unique échantillon de taille $n$ de $X$ (resp. $Y$).\n",
    "Représentez sur un même graphique les trajectoires de $ \\hat I_k^1$ et $\\hat I_k^2$."
   ]
  },
  {
   "cell_type": "code",
   "execution_count": 64,
   "metadata": {},
   "outputs": [
    {
     "data": {
      "text/plain": [
       "0.0044294210890290925"
      ]
     },
     "execution_count": 64,
     "metadata": {},
     "output_type": "execute_result"
    },
    {
     "data": {
      "image/png": "[encoded data removed]",
      "text/plain": [
       "<matplotlib.figure.Figure at 0x7f1dd6df1e48>"
      ]
     },
     "metadata": {},
     "output_type": "display_data"
    }
   ],
   "source": [
    "def MCtraj1(n):\n",
    "    X = 2 * np.random.uniform(0, 1, n)\n",
    "    gX = g(X)\n",
    "    return gX.cumsum() / arange(1, n+1)\n",
    "    \n",
    "def MCtraj2(n):\n",
    "    Y = 2 * np.sqrt(np.random.uniform(0, 1, n))\n",
    "    hY = h(Y)\n",
    "    return hY.cumsum() / arange(1, n+1)\n",
    "\n",
    "N = 100\n",
    "n = arange(1,N+1)\n",
    "plot(n, MCtraj1(N), label = 'I1')\n",
    "plot(n, MCtraj2(N), label = 'I2')\n",
    "plot(n, np.ones(N)*I, label = 'I')\n",
    "xlabel('n')\n",
    "legend()\n"
   ]
  },
  {
   "cell_type": "markdown",
   "metadata": {},
   "source": [
    ">**Question 3.** Pour comparer les performances des deux méthodes proposées, on fixe $n$ et on relance $N_{s}$ fois l’estimation de $I$ pour déterminer quelle méthode est la plus précise.  \n",
    "\n",
    ">**(a)** Créer deux nouvelles fonctions qui effectuent $N_{s}$ simulations de $\\hat I^1_n$ et $\\hat I^2_n$ respectivement.  \n",
    "Comparer les boxplots des deux vecteurs obtenus pour $n=100$ et $N_s=1000$.  \n",
    "Vérifier que l'estimateur $\\hat I_n^1$ fournit effectivement une estimation plus précise et justifier pourquoi.  \n",
    "\n",
    ">**(b)** Pour chaque méthode, relever la proportion d'estimations, parmi les $N_s$ estimations,  \n",
    "qui sont dans l'intervalle $[I(1-\\epsilon),I(1+\\epsilon)]$. La meilleure méthode est celle dont la proportion est la plus élevée. Appliquer avec $n=100$, $N_s=1000$ et $\\epsilon=0.05$."
   ]
  },
  {
   "cell_type": "code",
   "execution_count": 69,
   "metadata": {},
   "outputs": [],
   "source": [
    "def MCtraj1N(n, Ns):\n",
    "    X = np.random.uniform(0, 2, (n, Ns))\n",
    "    gX = g(X)\n",
    "    return gX.sum(axis = 0) / n\n",
    "\n",
    "def MCtraj2N(n, Ns):\n",
    "    Y = 2* np.sqrt(np.random.uniform(0, 1, (n, Ns)))\n",
    "    hY = h(Y)\n",
    "    return hY.sum(axis = 0) / n"
   ]
  },
  {
   "cell_type": "code",
   "execution_count": 78,
   "metadata": {},
   "outputs": [
    {
     "data": {
      "text/plain": [
       "<matplotlib.text.Text at 0x7f1dd6bae550>"
      ]
     },
     "execution_count": 78,
     "metadata": {},
     "output_type": "execute_result"
    },
    {
     "data": {
      "image/png": "[encoded data removed]",
      "text/plain": [
       "<matplotlib.figure.Figure at 0x7f1dd6db52e8>"
      ]
     },
     "metadata": {},
     "output_type": "display_data"
    }
   ],
   "source": [
    "n = 100\n",
    "Ns = 1000\n",
    "\n",
    "MC = np.array([MCtraj1N(n, Ns), MCtraj2N(n, Ns)])\n",
    "boxplot(transpose(MC), labels = [\"Methode 1\", \"Methode2\"])\n",
    "xlabel(\"methode\")\n",
    "ylabel(\"moyenne empirique\")\n",
    "title(\"Boxplots des estimateurs\")"
   ]
  },
  {
   "cell_type": "code",
   "execution_count": 79,
   "metadata": {},
   "outputs": [
    {
     "name": "stdout",
     "output_type": "stream",
     "text": [
      "[0.27900000000000003, 0.083000000000000004]\n"
     ]
    }
   ],
   "source": [
    "epsilon = .05\n",
    "p = [(MC[i] > (I*(1 - epsilon))) & (MC[i] > (I*(1 + epsilon))) for i in [0,1]]\n",
    "p = [np.sum(p[i])/Ns for i in [0,1]]\n",
    "print(p)"
   ]
  },
  {
   "cell_type": "markdown",
   "metadata": {},
   "source": [
    "## Exercice 2"
   ]
  },
  {
   "cell_type": "markdown",
   "metadata": {},
   "source": [
    "On souhaite estimer \n",
    "$$\n",
    "I = \\mathbb{E}(\\mathbb{1}_{X \\in (0,1)})\n",
    "$$\n",
    "où  $X$ est une variable aléatoire gaussienne standard.\n",
    "On note par la suite $\\hat I_n^1$ l'estimateur de Monte-Carlo de $I$  \n",
    "$$\n",
    "\\hat I_n = \\frac{1}{n}\\sum_{i=1}^n \\mathbb{1}_{X_i \\in (0,1)}\n",
    "$$\n",
    "où les $X_i$ sont des réalisations indépendantes de $X$.  \n",
    "\n",
    "On souhaite mettre en oeuvre une méthode de Monte-Carlo avec tirage d'importance.   $X$ admet comme densité $f_X(x) = \\frac{1}{\\sqrt{2\\pi}} e^{-x^2/2}$  et on note que  $e^{-x^2/2}$ admet \n",
    "comme développement de Taylor du second ordre en $0$ la fonction $(1+\\frac{x^2}{2})^{-1}$. On définit alors $Y$ la variable aléatoire qui admet comme densité \n",
    "$$f_Y(y) \\sim (1+\\frac{y^2}{2})^{-1} \\mathbb{1}_{y \\in (0,1)}$$ dont le support $(0,1)$. \n",
    "On considère alors l'estimateur de Monte-Carlo de $I$ avec tirage d'importance\n",
    "$$\n",
    "\\hat I_n^{IS} = \\frac{1}{n}\\sum_{i=1}^n \\frac{f_X(Y_i)}{f_Y(Y_i)}\n",
    "$$\n",
    "où les $Y_i$ sont des réalisations indépendantes de $Y$."
   ]
  },
  {
   "cell_type": "markdown",
   "metadata": {},
   "source": [
    ">**Question 1.** Créer une fonction <code>MCtraj</code> qui prend comme argument $n$, réalise $n$ tirages de $X$ et renvoie le vecteur des estimations $\\hat I_k$ pour $k=1,\\dots,n$. Représenter une trajectoire pour $n = 100$."
   ]
  },
  {
   "cell_type": "code",
   "execution_count": 98,
   "metadata": {},
   "outputs": [
    {
     "data": {
      "image/png": "[encoded data removed]",
      "text/plain": [
       "<matplotlib.figure.Figure at 0x7f1dd6938c88>"
      ]
     },
     "metadata": {},
     "output_type": "display_data"
    }
   ],
   "source": [
    "def MCtraj(n):\n",
    "    X = randn(n)\n",
    "    gX = (X < 1) & (X > 0)\n",
    "    return gX.cumsum() / arange(1, n+1)\n",
    "\n",
    "n = 10000\n",
    "I1 = MCtraj(n)\n",
    "plot(I1)\n",
    "xlabel('k')\n",
    "ylabel('$\\hat I_k$');"
   ]
  },
  {
   "cell_type": "markdown",
   "metadata": {},
   "source": [
    ">**Question 2.** Vérifier que l'inverse de la fonction de répartition de probabilité de $Y$ est $F_Y^{-1}(u) = \\sqrt{2} \\tan(u \\arctan(1/\\sqrt{2}))$.\n",
    "Créer une fonction <code>MCtraj_IS</code> qui prend pour argument $n$, réalise $n$ tirages de $Y$ et renvoie le vecteur des estimations $I^{IS}_k$ pour $k=1,\\dots,n$. Représenter sur la même figure une trajectoire de $\\hat I_k$ et $\\hat I^{IS}_k$ pour $n = 100$. Quelle approche vous semble la plus efficace  pour estimer $I$  ?"
   ]
  },
  {
   "cell_type": "code",
   "execution_count": 99,
   "metadata": {},
   "outputs": [],
   "source": [
    "def MCtraj_IS(n):\n",
    "    U = rand(n)\n",
    "    Y = sqrt(2) * tan(U * atan(1/sqrt(2)))\n",
    "    fY = 1/(1+(Y**2)/2)/sqrt(2)/atan(1/sqrt(2))\n",
    "    fX = 1/sqrt(2*np.pi)*np.exp(-(Y**2)/2)\n",
    "    I = fX/fY\n",
    "    I = I.cumsum() / arange(1, n+1)\n",
    "    return I\n",
    "\n",
    "n =100 \n",
    "\n",
    "I1 = MCtraj(n)\n",
    "I2 = MCtraj_IS(n)"
   ]
  },
  {
   "cell_type": "markdown",
   "metadata": {},
   "source": [
    ">**Question 3.** \n",
    "Créer une fonction <code>MC</code> (resp. <code>MC_IS</code>) qui prend comme arguments $n$ et $N_s$ et qui renvoie un vecteur contenant $N_s$ tirages de l'estimateur $\\hat I_n$ (resp. $\\hat I_n^{IS}$). \n",
    "Calculer la variance empirique des estimateurs $\\hat I_n$ et  $\\hat I_n^{IS}$ pour $n=10$ en prenant $N_s=1000$."
   ]
  },
  {
   "cell_type": "code",
   "execution_count": null,
   "metadata": {
    "collapsed": true
   },
   "outputs": [],
   "source": []
  }
 ],
 "metadata": {
  "kernelspec": {
   "display_name": "Python 3",
   "language": "python",
   "name": "python3"
  },
  "language_info": {
   "codemirror_mode": {
    "name": "ipython",
    "version": 3
   },
   "file_extension": ".py",
   "mimetype": "text/x-python",
   "name": "python",
   "nbconvert_exporter": "python",
   "pygments_lexer": "ipython3",
   "version": "3.5.3"
  }
 },
 "nbformat": 4,
 "nbformat_minor": 2
}
