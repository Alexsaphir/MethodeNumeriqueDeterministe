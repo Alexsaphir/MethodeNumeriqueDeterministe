{
 "cells": [
  {
   "cell_type": "markdown",
   "metadata": {},
   "source": [
    "<center>\n",
    "# Algèbre linéaire randomisée (suite)"
   ]
  },
  {
   "cell_type": "code",
   "execution_count": 66,
   "metadata": {},
   "outputs": [],
   "source": [
    "%matplotlib inline\n",
    "from math import *\n",
    "import numpy as  np  \n",
    "import scipy as sp\n",
    "from pylab import *\n"
   ]
  },
  {
   "cell_type": "markdown",
   "metadata": {},
   "source": [
    "# Exercice 1"
   ]
  },
  {
   "cell_type": "markdown",
   "metadata": {},
   "source": [
    "Soit $n = 2^d.$ La transformation SRHT de $\\mathbb{R}^n$ dans $\\mathbb{R}^k$ est définie par \n",
    "$$\n",
    "S = PHD \n",
    "$$\n",
    "où $D \\in \\mathbb{R}^{n\\times n}$ est une matrice diagonale dont les entrées sont des v.a. de Rademacher indépendantes, $H \\in \\mathbb{R}^{n\\times n}$ est la matrice de Hadamard, et $P = \\sqrt{\\frac{n}{k}} B$ où $B$ est une matrice aléaroire telle que $Bx$ est un sous-ensemble de $k$ composantes de $x$ tirées au hasard et avec remplacement.  \n"
   ]
  },
  {
   "cell_type": "markdown",
   "metadata": {},
   "source": [
    ">**Question 1.** Créer une fonction <code>Hadamard_Transform(x)</code> qui prend en argument un vecteur $x$ et qui retourne sa transformée de Hadamard $Hx$. "
   ]
  },
  {
   "cell_type": "code",
   "execution_count": null,
   "metadata": {},
   "outputs": [],
   "source": []
  },
  {
   "cell_type": "markdown",
   "metadata": {},
   "source": [
    ">**Question 2.** Créer une fonction <code>SRHT(x,k)</code> qui prend en argument un vecteur $x$ et un entier $k$ et qui retourne le vecteur $PHDx$."
   ]
  },
  {
   "cell_type": "code",
   "execution_count": null,
   "metadata": {},
   "outputs": [],
   "source": []
  },
  {
   "cell_type": "markdown",
   "metadata": {},
   "source": [
    ">**Question 3.** On considère un vecteur $x\\in\\mathbb{R}^n$ tiré aléatoirement selon la loi gaussienne standard, avec $d=20$. Pour $\\epsilon=0.1$ et pour $k=10$ et $100$, \n",
    "estimer la probabilité que $\\vert \\Vert Sx \\Vert_2^2 - \\Vert x \\Vert_2^2 \\vert > \\epsilon \\Vert x \\Vert_2^2$, et  la probabilité que $\\vert \\Vert Px \\Vert_2^2 - \\Vert x \\Vert_2^2 \\vert > \\epsilon \\Vert x \\Vert_2^2$.  \n",
    "Pour chaque cas, on estimera la probabilité en calculant la fréquence de l'événement sur $N_s=1000$."
   ]
  },
  {
   "cell_type": "code",
   "execution_count": null,
   "metadata": {},
   "outputs": [],
   "source": []
  },
  {
   "cell_type": "markdown",
   "metadata": {},
   "source": [
    ">**Question 4.** Reprendre la question précédente avec un vecteur $x$ qui contient $p$ composantes non nulles toutes égales à $1/\\sqrt{p}$. On testera les valeurs $p=2^l$ pour $l=0,...,d$."
   ]
  },
  {
   "cell_type": "code",
   "execution_count": null,
   "metadata": {},
   "outputs": [],
   "source": []
  },
  {
   "cell_type": "markdown",
   "metadata": {},
   "source": [
    "# Exercice 2"
   ]
  },
  {
   "cell_type": "markdown",
   "metadata": {},
   "source": [
    "Soit $A\\in \\mathbb{R}^{n\\times m}$. On considère l'approximation du produit matriciel $A^TA$ par la matrice $(SA)^T(SA)$ où $S$ est une matrice aléatoire. On considère les matrices aléatoires $S \\in \\mathbb{R}^{k\\times n}$ suivantes:\n",
    "* les entrées de $S$ sont i.i.d. et suivent la loi gaussienne $\\mathcal{N}(0,\\frac{1}{k})$,\n",
    "* les lignes de $S$ sont indépendantes et la ligne $i$ contient une seule composante non nulle  située à la position $j$, tirage aléatoire d'une variable $J$ à valeurs dans $\\{1,\\dots,n\\}$ et de loi $\\mathbb{P}(J=j)=p_j$. La valeur de cette composante non nulle est $\\frac{1}{\\sqrt{k p_j}}$.   \n",
    "\n",
    "Dans le cas du sampling, quel que soit $p$, $(SA)^T(SA)$ est un estimateur sans biais de $A^TA$. La variance de cet estimateur est minimale pour $p_i = p_i^{opt} = \\Vert a_i \\Vert^2_2/\\Vert A \\Vert_F^2$ où $a_i$ est la ligne $i$ de $A$.  "
   ]
  },
  {
   "cell_type": "markdown",
   "metadata": {},
   "source": [
    ">**Question 1.** Créer les fonctions <code>projection_gaussian(A,k)</code> et <code>projection_sampling(A,k,p)</code> qui prennent pour arguments une matrice $A \\in \\mathbb{R}^{n \\times m}$, un entier $k$ (et un vecteur $p$ de taille $n$ pour le deuxième cas), et qui renvoient une réalisation de $SA \\in \\mathbb{R}^{k\\times m}$ pour les deux cas de matrices aléatoires considérés. On utilisera <code>(n,m) = A.shape</code> pour obtenir les dimensions de $A$."
   ]
  },
  {
   "cell_type": "code",
   "execution_count": 72,
   "metadata": {},
   "outputs": [],
   "source": [
    "def projection_gaussian(A, k):\n",
    "    (n,m) = A.shape\n",
    "    S = 1. / sqrt(k) * np.random.randn(m,n)\n",
    "    return np.dot(S, A)\n",
    "    \n",
    "\n",
    "def projection_sampling(A, k, p):\n",
    "    (n,m) = A.shape\n",
    "    I = np.random.choice(range(n), k, replace=True, p=p)\n",
    "    SA = np.zeros((m,n))\n",
    "    SA = A[I, :] / sqrt(k)\n",
    "    for i in range(k):\n",
    "        SA[i, :] = A[I[i], :] / sqrt(k*p[I[i]])\n",
    "    return SA"
   ]
  },
  {
   "cell_type": "markdown",
   "metadata": {},
   "source": [
    ">**Question 2.** On note $$E(A,B) = \\frac{ \\Vert A^TA - B^TB\\Vert_F }{ \\Vert A \\Vert_F^2}.$$ Créer une fonction <code>error</code> qui prend deux matrices $A$ et $B$ en arguments et qui revoie $E(A,B)$. "
   ]
  },
  {
   "cell_type": "code",
   "execution_count": 73,
   "metadata": {},
   "outputs": [],
   "source": [
    "def error(A, B):\n",
    "    return np.abs(np.linalg.norm(np.dot(np.transpose(A), A) - np.dot(np.transpose(B), B), 'fro')) / np.power(np.linalg.norm(A, 'fro'), 2)"
   ]
  },
  {
   "cell_type": "markdown",
   "metadata": {},
   "source": [
    ">**Question 3.** Générer une réalisation de la matrice $A \\in \\mathbb{R}^{n\\times m}$ telle que \n",
    "$$\n",
    "A_{ij} = \\exp\\left(-\\frac{1}{0.05^2}\\left(\\frac{i-1}{n}-X_j)\\right)^2\\right)Y_{ij}\n",
    "$$\n",
    "avec $n=1000$ et $m=250$, où les $X_j$ et $Y_{ij}$ sont indépendantes, $X_j \\sim U(0,1)$ et $Y_{ij} \\sim \\mathcal{N}(0,1)$."
   ]
  },
  {
   "cell_type": "code",
   "execution_count": 74,
   "metadata": {},
   "outputs": [
    {
     "name": "stdout",
     "output_type": "stream",
     "text": [
      "124.719076067\n"
     ]
    }
   ],
   "source": [
    "n = 1000\n",
    "m = 250\n",
    "\n",
    "A = np.zeros((n, m))\n",
    "for j in range(m):\n",
    "    xj = np.random.rand()\n",
    "    for i in range(n):\n",
    "        A[i, j] = np.exp( -1./.05**2*((i- 1)/n - xj)**2 )*np.random.randn()\n",
    "print(np.linalg.norm(A))"
   ]
  },
  {
   "cell_type": "markdown",
   "metadata": {},
   "source": [
    ">**Question 4.** On compare ici la projection avec matrice gaussienne, la projection par sampling de loi uniforme $p_i = \\frac{1}{n}$, et la projection par sampling optimal $p_i = p_i^{opt}.$ Pour chaque cas, effectuer $N_s=100$ simulations de l'erreur $E(A,SA)$ et tracer les boxplots de cette erreur sur un même graphique. On testera pour les valeurs de $k=25,50,100,200$."
   ]
  },
  {
   "cell_type": "code",
   "execution_count": 77,
   "metadata": {},
   "outputs": [
    {
     "data": {
      "text/plain": [
       "<matplotlib.text.Text at 0x7fdf30579048>"
      ]
     },
     "execution_count": 77,
     "metadata": {},
     "output_type": "execute_result"
    },
    {
     "data": {
      "image/png": "[encoded data removed]",
      "text/plain": [
       "<matplotlib.figure.Figure at 0x7fdf306b8c18>"
      ]
     },
     "metadata": {},
     "output_type": "display_data"
    }
   ],
   "source": [
    "Ns = 101\n",
    "k = 10\n",
    "cas = [\"P.G\", \"P.A.L.U\", \"P.A.L Opt\"]\n",
    "\n",
    "err1 = np.zeros(Ns)\n",
    "err2 = np.zeros(Ns)\n",
    "err3 = np.zeros(Ns)\n",
    "\n",
    "punif = np.ones(n) / n\n",
    "popt = [np.linalg.norm(A[i, :])**2 for i in range(n) ]\n",
    "popt = popt / sum(popt)\n",
    "\n",
    "for l in range(Ns):\n",
    "    err1[l]=error(A,projection_gaussian(A, k))\n",
    "    err2[l]=error(A,projection_sampling(A, k, punif))\n",
    "    err3[l]=error(A,projection_sampling(A, k, popt))\n",
    "\n",
    "boxplot([err1, err2, err3], labels = cas)\n",
    "title(\"E(A,SA)\")"
   ]
  },
  {
   "cell_type": "markdown",
   "metadata": {},
   "source": [
    "# Exercice 3"
   ]
  },
  {
   "cell_type": "markdown",
   "metadata": {},
   "source": [
    "On considère un problème de régression par moindres carrés.  \n",
    "Soit $Y = f(X) + \\epsilon$ où $X$ est une variable aléatoire uniforme sur $(0,1)$ et $\\epsilon$ est une variable gaussienne $\\mathcal{N}(0,\\sigma^2)$. On prendra $f(x) = \\cos(\\pi x)/2 + \\exp(x)$ et $\\sigma=10$. \n",
    "\n",
    "On dispose d'un échantillon $x = (x_1,\\dots,x_n)$ de $X$ et d'un échantillon correspondant $y = (y_1,\\dots,y_n)$ de $Y$, où $y_i = f(x_i) + \\epsilon_i$.  \n",
    "On souhaite constuire une approximation de $f(x)$ par un polynôme $g(x) = \\sum_{j=0}^p a_j \\varphi_j(x)$ où $\\varphi_j(x) = x^j.$ L'approximation par moindres carrés conduit à un vecteur de coefficients $a$ solution de \n",
    "$$\n",
    "\\min_{a \\in \\mathbb{R}^{p+1}} \\Vert Aa - y \\Vert_2^2\n",
    "$$\n",
    "où $A\\in \\mathbb{R}^{n\\times (p+1)}$ est telle que $A_{ij} = \\varphi_j(x_i).$ \n",
    " \n",
    "On considère également la solution $a_S$ du problème aux moindres carrés randomisé\n",
    "$$\n",
    "\\min_{a \\in \\mathbb{R}^{p+1}} \\Vert S(Aa - y) \\Vert_2^2\n",
    "$$\n",
    "où $S\\in \\mathbb{R}^{k\\times n}$ est une matrice aléatoire. On considérera ici une matrice gausienne à entrées i.i.d. et $\\mathcal{N}(0,1/k)$. \n"
   ]
  },
  {
   "cell_type": "markdown",
   "metadata": {},
   "source": [
    ">**Question 1.** Créer une fonction <code>f(x)</code> qui prend en argument un vecteur <code>x</code> de réalisations $x_i$ de $X$ et qui renvoie un vecteur de même taille contenant les valeurs $f(x_i)$."
   ]
  },
  {
   "cell_type": "code",
   "execution_count": 78,
   "metadata": {},
   "outputs": [],
   "source": [
    "def f(x):\n",
    "    return np.array( cos(pi*x)/2 + exp(x))"
   ]
  },
  {
   "cell_type": "markdown",
   "metadata": {},
   "source": [
    ">**Question 2.** Créer une fonction <code>phi(x,p)</code> qui prend en arguments un vecteur <code>x</code> de réalisations de $X$ et un entier $p$ et qui renvoie la matrice $A$."
   ]
  },
  {
   "cell_type": "code",
   "execution_count": 80,
   "metadata": {},
   "outputs": [],
   "source": [
    "def phi(x, p):\n",
    "    n = x.size\n",
    "    A = np.zeros((n, p+1))\n",
    "    for i in range(n):\n",
    "        for j in range(p+1):\n",
    "            A[i, j] = x[i]**j\n",
    "    return A"
   ]
  },
  {
   "cell_type": "markdown",
   "metadata": {},
   "source": [
    ">**Question 3.** Créer une fonction <code>least_squares(B,b)</code> qui prend en entrée une matrice $B$ et un vecteur $b$ et qui renvoie $a = (B^TB)^{-1}(B^Tb)$. "
   ]
  },
  {
   "cell_type": "code",
   "execution_count": 81,
   "metadata": {},
   "outputs": [],
   "source": [
    "def least_square(B,b):\n",
    "    a = np.linalg.solve(np.dot(np.transpose(B), B), np.dot(np.transpose(B), b))\n",
    "    return(a)"
   ]
  },
  {
   "cell_type": "markdown",
   "metadata": {},
   "source": [
    ">**Question 4.** Générer un vecteur <code>x</code> de $n=100$ réalisations de $X$ et un vecteur <code>y</code> de $n=100$ réalisations correspondantes de $Y$ (échantillon d'apprentissage).    "
   ]
  },
  {
   "cell_type": "code",
   "execution_count": 87,
   "metadata": {},
   "outputs": [],
   "source": [
    "n = 100\n",
    "p = 15\n",
    "x = np.random.rand(n)\n",
    "y =f(x) + np.random.randn(n) / n"
   ]
  },
  {
   "cell_type": "markdown",
   "metadata": {},
   "source": [
    ">**Question 5.** Calculer la solution $a$ du problème aux moindres carrés.  \n",
    "Calculer la solution $a_S$ du problème aux moindres carrés randomisé avec $S \\in \\mathbb{R}^{k\\times n}.$  \n",
    "Calculer la solution $\\tilde a$ du problème aux moindres carrés basés sur les $k$ premiers échantillons.  \n",
    "On testera les valeurs de $k=30, 100$.   \n",
    "Tracer sur une même figure la fonction de $f$ et les trois approximations $g$, $\\tilde g$ et $g_S$ associées aux coefficients $a$, $\\tilde a$ et $a_S$.\n",
    "Construire un vecteur <code>xtest</code> de $1000$ réalisations de $X$ et un vecteur <code>ytest</code> de $1000$ réalisations correspondantes de $Y$ (échantillon test) et  estimer l'erreur $L^2$ relative pour chaque approximation $g$, $\\tilde g$ et $g_S$.\n",
    "\n"
   ]
  },
  {
   "cell_type": "code",
   "execution_count": 93,
   "metadata": {},
   "outputs": [
    {
     "name": "stdout",
     "output_type": "stream",
     "text": [
      "Erreur test LS 0.00246823512845\n",
      "Erreur test LS k echantillon 0.00713947616837\n",
      "Erreur test LS Randomized 0.00595182990447\n"
     ]
    },
    {
     "data": {
      "image/png": "[encoded data removed]",
      "text/plain": [
       "<matplotlib.figure.Figure at 0x7fdf30b246d8>"
      ]
     },
     "metadata": {},
     "output_type": "display_data"
    }
   ],
   "source": [
    "k = 30\n",
    "A = phi(x, p)\n",
    "\n",
    "a = least_square(A, y)\n",
    "\n",
    "atilde = least_square(A[0:k-1,:], y[0:k-1])\n",
    "S = np.random.randn(k, n)/sqrt(k)\n",
    "SA = np.dot(S, A)\n",
    "Sy = np.dot(S, y)\n",
    "aS = least_square(SA, Sy)\n",
    "xplot = np.linspace(0, 1, 1000)\n",
    "plot(xplot, f(xplot))\n",
    "\n",
    "plot(xplot, np.dot(phi(xplot, p), a))\n",
    "plot(xplot, np.dot(phi(xplot, p), atilde))\n",
    "plot(xplot, np.dot(phi(xplot, p), aS))\n",
    "\n",
    "legend([\"f\", \"g\", \"gtilde\", \"g_S\"])\n",
    "\n",
    "ntest = 100\n",
    "xtest = np.random.rand(ntest)\n",
    "ytest = f(xtest)\n",
    "\n",
    "error_test_a = np.linalg.norm(ytest - np.dot(phi(xtest, p),a)) / np.linalg.norm(ytest)\n",
    "error_test_atilde = np.linalg.norm(ytest - np.dot(phi(xtest, p),atilde)) / np.linalg.norm(ytest)\n",
    "error_test_aS = np.linalg.norm(ytest - np.dot(phi(xtest,p), aS)) / np.linalg.norm(ytest)\n",
    "\n",
    "print(\"Erreur test LS\", error_test_a)\n",
    "print(\"Erreur test LS k echantillon\", error_test_atilde)\n",
    "print(\"Erreur test LS Randomized\", error_test_aS)\n"
   ]
  },
  {
   "cell_type": "code",
   "execution_count": null,
   "metadata": {},
   "outputs": [],
   "source": []
  }
 ],
 "metadata": {
  "kernelspec": {
   "display_name": "Python 3",
   "language": "python",
   "name": "python3"
  },
  "language_info": {
   "codemirror_mode": {
    "name": "ipython",
    "version": 3
   },
   "file_extension": ".py",
   "mimetype": "text/x-python",
   "name": "python",
   "nbconvert_exporter": "python",
   "pygments_lexer": "ipython3",
   "version": "3.5.3"
  }
 },
 "nbformat": 4,
 "nbformat_minor": 2
}
